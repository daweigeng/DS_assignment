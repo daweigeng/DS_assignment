{
 "cells": [
  {
   "cell_type": "markdown",
   "metadata": {},
   "source": [
    "# Data Cleaning and Exploration"
   ]
  },
  {
   "cell_type": "markdown",
   "metadata": {},
   "source": [
    "## load dataset and inspect features for data cleaning"
   ]
  },
  {
   "cell_type": "code",
   "execution_count": 1,
   "metadata": {
    "collapsed": true
   },
   "outputs": [],
   "source": [
    "import pandas as pd\n",
    "import numpy as np\n",
    "import matplotlib.pyplot as plt"
   ]
  },
  {
   "cell_type": "code",
   "execution_count": 2,
   "metadata": {
    "collapsed": false,
    "scrolled": true
   },
   "outputs": [
    {
     "data": {
      "text/html": [
       "<div>\n",
       "<table border=\"1\" class=\"dataframe\">\n",
       "  <thead>\n",
       "    <tr style=\"text-align: right;\">\n",
       "      <th></th>\n",
       "      <th>jobId</th>\n",
       "      <th>companyId</th>\n",
       "      <th>jobType</th>\n",
       "      <th>degree</th>\n",
       "      <th>major</th>\n",
       "      <th>industry</th>\n",
       "      <th>yearsExperience</th>\n",
       "      <th>milesFromMetropolis</th>\n",
       "    </tr>\n",
       "  </thead>\n",
       "  <tbody>\n",
       "    <tr>\n",
       "      <th>0</th>\n",
       "      <td>JOB1362684407687</td>\n",
       "      <td>COMP37</td>\n",
       "      <td>CFO</td>\n",
       "      <td>MASTERS</td>\n",
       "      <td>MATH</td>\n",
       "      <td>HEALTH</td>\n",
       "      <td>10</td>\n",
       "      <td>83</td>\n",
       "    </tr>\n",
       "    <tr>\n",
       "      <th>1</th>\n",
       "      <td>JOB1362684407688</td>\n",
       "      <td>COMP19</td>\n",
       "      <td>CEO</td>\n",
       "      <td>HIGH_SCHOOL</td>\n",
       "      <td>NONE</td>\n",
       "      <td>WEB</td>\n",
       "      <td>3</td>\n",
       "      <td>73</td>\n",
       "    </tr>\n",
       "    <tr>\n",
       "      <th>2</th>\n",
       "      <td>JOB1362684407689</td>\n",
       "      <td>COMP52</td>\n",
       "      <td>VICE_PRESIDENT</td>\n",
       "      <td>DOCTORAL</td>\n",
       "      <td>PHYSICS</td>\n",
       "      <td>HEALTH</td>\n",
       "      <td>10</td>\n",
       "      <td>38</td>\n",
       "    </tr>\n",
       "    <tr>\n",
       "      <th>3</th>\n",
       "      <td>JOB1362684407690</td>\n",
       "      <td>COMP38</td>\n",
       "      <td>MANAGER</td>\n",
       "      <td>DOCTORAL</td>\n",
       "      <td>CHEMISTRY</td>\n",
       "      <td>AUTO</td>\n",
       "      <td>8</td>\n",
       "      <td>17</td>\n",
       "    </tr>\n",
       "    <tr>\n",
       "      <th>4</th>\n",
       "      <td>JOB1362684407691</td>\n",
       "      <td>COMP7</td>\n",
       "      <td>VICE_PRESIDENT</td>\n",
       "      <td>BACHELORS</td>\n",
       "      <td>PHYSICS</td>\n",
       "      <td>FINANCE</td>\n",
       "      <td>8</td>\n",
       "      <td>16</td>\n",
       "    </tr>\n",
       "  </tbody>\n",
       "</table>\n",
       "</div>"
      ],
      "text/plain": [
       "              jobId companyId         jobType       degree      major  \\\n",
       "0  JOB1362684407687    COMP37             CFO      MASTERS       MATH   \n",
       "1  JOB1362684407688    COMP19             CEO  HIGH_SCHOOL       NONE   \n",
       "2  JOB1362684407689    COMP52  VICE_PRESIDENT     DOCTORAL    PHYSICS   \n",
       "3  JOB1362684407690    COMP38         MANAGER     DOCTORAL  CHEMISTRY   \n",
       "4  JOB1362684407691     COMP7  VICE_PRESIDENT    BACHELORS    PHYSICS   \n",
       "\n",
       "  industry  yearsExperience  milesFromMetropolis  \n",
       "0   HEALTH               10                   83  \n",
       "1      WEB                3                   73  \n",
       "2   HEALTH               10                   38  \n",
       "3     AUTO                8                   17  \n",
       "4  FINANCE                8                   16  "
      ]
     },
     "execution_count": 2,
     "metadata": {},
     "output_type": "execute_result"
    }
   ],
   "source": [
    "### load training features\n",
    "features=pd.read_csv(\"train_features_2013-03-07.csv\")\n",
    "features.head()"
   ]
  },
  {
   "cell_type": "code",
   "execution_count": 11,
   "metadata": {
    "collapsed": false
   },
   "outputs": [
    {
     "name": "stdout",
     "output_type": "stream",
     "text": [
      "----------check if there is NULL in this dataset------------\n",
      "jobId                  True\n",
      "companyId              True\n",
      "jobType                True\n",
      "degree                 True\n",
      "major                  True\n",
      "industry               True\n",
      "yearsExperience        True\n",
      "milesFromMetropolis    True\n",
      "dtype: bool\n",
      "\n",
      "\n",
      "---------check descriptive statistics for two continuous variables-------\n",
      "       yearsExperience  milesFromMetropolis\n",
      "count   1000000.000000       1000000.000000\n",
      "mean         11.992386            49.529260\n",
      "std           7.212391            28.877733\n",
      "min           0.000000             0.000000\n",
      "25%           6.000000            25.000000\n",
      "50%          12.000000            50.000000\n",
      "75%          18.000000            75.000000\n",
      "max          24.000000            99.000000\n"
     ]
    }
   ],
   "source": [
    "##check if there is NULL in this dataset\n",
    "print(\"----------check if there is NULL in this dataset------------\")\n",
    "print(features.apply(pd.notnull).all(axis=0))\n",
    "\n",
    "print()\n",
    "print()\n",
    "print(\"---------check descriptive statistics for two continuous variables-------\")\n",
    "print(features.describe())\n"
   ]
  },
  {
   "cell_type": "code",
   "execution_count": 3,
   "metadata": {
    "collapsed": false
   },
   "outputs": [
    {
     "data": {
      "text/html": [
       "<div>\n",
       "<table border=\"1\" class=\"dataframe\">\n",
       "  <thead>\n",
       "    <tr style=\"text-align: right;\">\n",
       "      <th></th>\n",
       "      <th>jobId</th>\n",
       "      <th>salary</th>\n",
       "    </tr>\n",
       "  </thead>\n",
       "  <tbody>\n",
       "    <tr>\n",
       "      <th>0</th>\n",
       "      <td>JOB1362684407687</td>\n",
       "      <td>130</td>\n",
       "    </tr>\n",
       "    <tr>\n",
       "      <th>1</th>\n",
       "      <td>JOB1362684407688</td>\n",
       "      <td>101</td>\n",
       "    </tr>\n",
       "    <tr>\n",
       "      <th>2</th>\n",
       "      <td>JOB1362684407689</td>\n",
       "      <td>137</td>\n",
       "    </tr>\n",
       "    <tr>\n",
       "      <th>3</th>\n",
       "      <td>JOB1362684407690</td>\n",
       "      <td>142</td>\n",
       "    </tr>\n",
       "    <tr>\n",
       "      <th>4</th>\n",
       "      <td>JOB1362684407691</td>\n",
       "      <td>163</td>\n",
       "    </tr>\n",
       "  </tbody>\n",
       "</table>\n",
       "</div>"
      ],
      "text/plain": [
       "              jobId  salary\n",
       "0  JOB1362684407687     130\n",
       "1  JOB1362684407688     101\n",
       "2  JOB1362684407689     137\n",
       "3  JOB1362684407690     142\n",
       "4  JOB1362684407691     163"
      ]
     },
     "execution_count": 3,
     "metadata": {},
     "output_type": "execute_result"
    }
   ],
   "source": [
    "salary=pd.read_csv(\"train_salaries_2013-03-07.csv\") #load train salary dataset\n",
    "salary.head()"
   ]
  },
  {
   "cell_type": "code",
   "execution_count": 15,
   "metadata": {
    "collapsed": false
   },
   "outputs": [
    {
     "name": "stdout",
     "output_type": "stream",
     "text": [
      "----------check if there is NULL in this dataset------------\n",
      "jobId     True\n",
      "salary    True\n",
      "dtype: bool\n",
      "\n",
      "\n",
      "---------check descriptive statistics for two continuous variables-------\n",
      "               salary\n",
      "count  1000000.000000\n",
      "mean       116.061818\n",
      "std         38.717936\n",
      "min          0.000000\n",
      "25%         88.000000\n",
      "50%        114.000000\n",
      "75%        141.000000\n",
      "max        301.000000\n",
      "\n",
      "\n",
      "SPOT SOMETHING WRONG: salary shouldn't be 0!!!\n"
     ]
    }
   ],
   "source": [
    "print(\"----------check if there is NULL in this dataset------------\")\n",
    "print(salary.apply(pd.notnull).all(axis=0))\n",
    "\n",
    "\n",
    "print()\n",
    "print()\n",
    "\n",
    "print(\"---------check descriptive statistics for two continuous variables-------\")\n",
    "print(salary.describe())\n",
    "print()\n",
    "print()\n",
    "\n",
    "\n",
    "print(\"SPOT SOMETHING WRONG: salary shouldn't be 0!!!\")"
   ]
  },
  {
   "cell_type": "code",
   "execution_count": 16,
   "metadata": {
    "collapsed": false
   },
   "outputs": [
    {
     "name": "stdout",
     "output_type": "stream",
     "text": [
      "--------check if features and salary are exactly matching on jobId -----------\n"
     ]
    },
    {
     "data": {
      "text/html": [
       "<div>\n",
       "<table border=\"1\" class=\"dataframe\">\n",
       "  <thead>\n",
       "    <tr style=\"text-align: right;\">\n",
       "      <th></th>\n",
       "      <th>jobId</th>\n",
       "      <th>salary</th>\n",
       "    </tr>\n",
       "  </thead>\n",
       "  <tbody>\n",
       "  </tbody>\n",
       "</table>\n",
       "</div>"
      ],
      "text/plain": [
       "Empty DataFrame\n",
       "Columns: [jobId, salary]\n",
       "Index: []"
      ]
     },
     "execution_count": 16,
     "metadata": {},
     "output_type": "execute_result"
    }
   ],
   "source": [
    "print(\"--------check if features and salary are exactly matching on jobId -----------\")\n",
    "salary[salary['jobId']!=features['jobId']] ## "
   ]
  },
  {
   "cell_type": "code",
   "execution_count": 18,
   "metadata": {
    "collapsed": false
   },
   "outputs": [
    {
     "name": "stdout",
     "output_type": "stream",
     "text": [
      "jobtype category:\n",
      "SENIOR            125886\n",
      "VICE_PRESIDENT    125235\n",
      "MANAGER           125121\n",
      "CTO               125046\n",
      "JANITOR           124971\n",
      "CEO               124778\n",
      "JUNIOR            124594\n",
      "CFO               124369\n",
      "Name: jobType, dtype: int64\n",
      "---------------------\n",
      "industry category:\n",
      "WEB          143206\n",
      "AUTO         142943\n",
      "FINANCE      142867\n",
      "EDUCATION    142819\n",
      "OIL          142771\n",
      "HEALTH       142755\n",
      "SERVICE      142639\n",
      "Name: industry, dtype: int64\n",
      "---------------------\n",
      "degree category:\n",
      "HIGH_SCHOOL    236976\n",
      "NONE           236854\n",
      "BACHELORS      175495\n",
      "DOCTORAL       175364\n",
      "MASTERS        175311\n",
      "Name: degree, dtype: int64\n",
      "---------------------\n",
      "major category:\n",
      "NONE           532355\n",
      "CHEMISTRY       58875\n",
      "LITERATURE      58684\n",
      "ENGINEERING     58596\n",
      "BUSINESS        58518\n",
      "PHYSICS         58410\n",
      "COMPSCI         58382\n",
      "BIOLOGY         58379\n",
      "MATH            57801\n",
      "Name: major, dtype: int64\n",
      "---------------------\n"
     ]
    }
   ],
   "source": [
    "print('jobtype category:')\n",
    "print(features['jobType'].value_counts())\n",
    "\n",
    "print(\"---------------------\")\n",
    "print('industry category:')\n",
    "print(features['industry'].value_counts())\n",
    "\n",
    "print(\"---------------------\")\n",
    "print('degree category:')\n",
    "print(features['degree'].value_counts())\n",
    "\n",
    "print(\"---------------------\")\n",
    "print('major category:')\n",
    "print(features['major'].value_counts())\n",
    "\n",
    "print(\"---------------------\")"
   ]
  },
  {
   "cell_type": "code",
   "execution_count": 20,
   "metadata": {
    "collapsed": false
   },
   "outputs": [
    {
     "name": "stdout",
     "output_type": "stream",
     "text": [
      "Number of company: 63\n",
      "Number of jobId: 1000000\n"
     ]
    }
   ],
   "source": [
    "print(\"Number of company:\",len(np.unique(features['companyId'])))\n",
    "print(\"Number of jobId:\", features.shape[0])"
   ]
  },
  {
   "cell_type": "markdown",
   "metadata": {},
   "source": [
    "### Join two dataset"
   ]
  },
  {
   "cell_type": "code",
   "execution_count": 29,
   "metadata": {
    "collapsed": false,
    "scrolled": true
   },
   "outputs": [
    {
     "name": "stdout",
     "output_type": "stream",
     "text": [
      "-----------join two dataset------------\n",
      "\n"
     ]
    },
    {
     "data": {
      "text/html": [
       "<div>\n",
       "<table border=\"1\" class=\"dataframe\">\n",
       "  <thead>\n",
       "    <tr style=\"text-align: right;\">\n",
       "      <th></th>\n",
       "      <th>jobId</th>\n",
       "      <th>companyId</th>\n",
       "      <th>jobType</th>\n",
       "      <th>degree</th>\n",
       "      <th>major</th>\n",
       "      <th>industry</th>\n",
       "      <th>yearsExperience</th>\n",
       "      <th>milesFromMetropolis</th>\n",
       "      <th>salary</th>\n",
       "    </tr>\n",
       "  </thead>\n",
       "  <tbody>\n",
       "    <tr>\n",
       "      <th>0</th>\n",
       "      <td>JOB1362684407687</td>\n",
       "      <td>COMP37</td>\n",
       "      <td>CFO</td>\n",
       "      <td>MASTERS</td>\n",
       "      <td>MATH</td>\n",
       "      <td>HEALTH</td>\n",
       "      <td>10</td>\n",
       "      <td>83</td>\n",
       "      <td>130</td>\n",
       "    </tr>\n",
       "    <tr>\n",
       "      <th>1</th>\n",
       "      <td>JOB1362684407688</td>\n",
       "      <td>COMP19</td>\n",
       "      <td>CEO</td>\n",
       "      <td>HIGH_SCHOOL</td>\n",
       "      <td>NONE</td>\n",
       "      <td>WEB</td>\n",
       "      <td>3</td>\n",
       "      <td>73</td>\n",
       "      <td>101</td>\n",
       "    </tr>\n",
       "    <tr>\n",
       "      <th>2</th>\n",
       "      <td>JOB1362684407689</td>\n",
       "      <td>COMP52</td>\n",
       "      <td>VICE_PRESIDENT</td>\n",
       "      <td>DOCTORAL</td>\n",
       "      <td>PHYSICS</td>\n",
       "      <td>HEALTH</td>\n",
       "      <td>10</td>\n",
       "      <td>38</td>\n",
       "      <td>137</td>\n",
       "    </tr>\n",
       "    <tr>\n",
       "      <th>3</th>\n",
       "      <td>JOB1362684407690</td>\n",
       "      <td>COMP38</td>\n",
       "      <td>MANAGER</td>\n",
       "      <td>DOCTORAL</td>\n",
       "      <td>CHEMISTRY</td>\n",
       "      <td>AUTO</td>\n",
       "      <td>8</td>\n",
       "      <td>17</td>\n",
       "      <td>142</td>\n",
       "    </tr>\n",
       "    <tr>\n",
       "      <th>4</th>\n",
       "      <td>JOB1362684407691</td>\n",
       "      <td>COMP7</td>\n",
       "      <td>VICE_PRESIDENT</td>\n",
       "      <td>BACHELORS</td>\n",
       "      <td>PHYSICS</td>\n",
       "      <td>FINANCE</td>\n",
       "      <td>8</td>\n",
       "      <td>16</td>\n",
       "      <td>163</td>\n",
       "    </tr>\n",
       "  </tbody>\n",
       "</table>\n",
       "</div>"
      ],
      "text/plain": [
       "              jobId companyId         jobType       degree      major  \\\n",
       "0  JOB1362684407687    COMP37             CFO      MASTERS       MATH   \n",
       "1  JOB1362684407688    COMP19             CEO  HIGH_SCHOOL       NONE   \n",
       "2  JOB1362684407689    COMP52  VICE_PRESIDENT     DOCTORAL    PHYSICS   \n",
       "3  JOB1362684407690    COMP38         MANAGER     DOCTORAL  CHEMISTRY   \n",
       "4  JOB1362684407691     COMP7  VICE_PRESIDENT    BACHELORS    PHYSICS   \n",
       "\n",
       "  industry  yearsExperience  milesFromMetropolis  salary  \n",
       "0   HEALTH               10                   83     130  \n",
       "1      WEB                3                   73     101  \n",
       "2   HEALTH               10                   38     137  \n",
       "3     AUTO                8                   17     142  \n",
       "4  FINANCE                8                   16     163  "
      ]
     },
     "execution_count": 29,
     "metadata": {},
     "output_type": "execute_result"
    }
   ],
   "source": [
    "print(\"-----------join two dataset------------\")\n",
    "print()\n",
    "fea_salary_merge=features.merge(salary)\n",
    "fea_salary_merge.head()"
   ]
  },
  {
   "cell_type": "markdown",
   "metadata": {},
   "source": [
    "### Data Cleaning"
   ]
  },
  {
   "cell_type": "code",
   "execution_count": 30,
   "metadata": {
    "collapsed": false
   },
   "outputs": [
    {
     "name": "stdout",
     "output_type": "stream",
     "text": [
      "-----------Get rid of rows with salary being 0------------\n",
      "\n",
      "\n",
      "count    999995.000000\n",
      "mean        116.062398\n",
      "std          38.717163\n",
      "min          17.000000\n",
      "25%          88.000000\n",
      "50%         114.000000\n",
      "75%         141.000000\n",
      "max         301.000000\n",
      "Name: salary, dtype: float64\n",
      "\n",
      "5 job post with salary 0 got removed\n"
     ]
    }
   ],
   "source": [
    "print(\"-----------Get rid of rows with salary being 0------------\") \n",
    "print()\n",
    "fea_salary_merge=fea_salary_merge[fea_salary_merge['salary']!=0]\n",
    "print()\n",
    "print(fea_salary_merge['salary'].describe())\n",
    "print()\n",
    "print(\"5 job post with salary 0 got removed\")"
   ]
  },
  {
   "cell_type": "code",
   "execution_count": 26,
   "metadata": {
    "collapsed": false
   },
   "outputs": [
    {
     "name": "stdout",
     "output_type": "stream",
     "text": [
      "------salary group by degree----------\n",
      "\n",
      "After checking I fonnd the average salary of people with degree Noneis less than that with degree from high school or above. so it may indicate that None is just no degree from or above high school\n"
     ]
    },
    {
     "data": {
      "text/html": [
       "<div>\n",
       "<table border=\"1\" class=\"dataframe\">\n",
       "  <thead>\n",
       "    <tr style=\"text-align: right;\">\n",
       "      <th></th>\n",
       "      <th>salary</th>\n",
       "    </tr>\n",
       "    <tr>\n",
       "      <th>degree</th>\n",
       "      <th></th>\n",
       "    </tr>\n",
       "  </thead>\n",
       "  <tbody>\n",
       "    <tr>\n",
       "      <th>BACHELORS</th>\n",
       "      <td>125.454663</td>\n",
       "    </tr>\n",
       "    <tr>\n",
       "      <th>DOCTORAL</th>\n",
       "      <td>135.489433</td>\n",
       "    </tr>\n",
       "    <tr>\n",
       "      <th>HIGH_SCHOOL</th>\n",
       "      <td>101.920654</td>\n",
       "    </tr>\n",
       "    <tr>\n",
       "      <th>MASTERS</th>\n",
       "      <td>130.504903</td>\n",
       "    </tr>\n",
       "    <tr>\n",
       "      <th>NONE</th>\n",
       "      <td>98.176467</td>\n",
       "    </tr>\n",
       "  </tbody>\n",
       "</table>\n",
       "</div>"
      ],
      "text/plain": [
       "                 salary\n",
       "degree                 \n",
       "BACHELORS    125.454663\n",
       "DOCTORAL     135.489433\n",
       "HIGH_SCHOOL  101.920654\n",
       "MASTERS      130.504903\n",
       "NONE          98.176467"
      ]
     },
     "execution_count": 26,
     "metadata": {},
     "output_type": "execute_result"
    }
   ],
   "source": [
    "# Degree None is missing or just no degree from or above high school??\n",
    "# \n",
    "print(\"------salary group by degree----------\")\n",
    "print()\n",
    "print(\"After checking I fonnd the average salary of people with degree None\\\n",
    "is less than that with degree from high school or above. so it may indicate \\\n",
    "that None is just no degree from or above high school\")\n",
    "\n",
    "fea_salary_merge[['degree','salary']].groupby(['degree']).mean()"
   ]
  },
  {
   "cell_type": "code",
   "execution_count": 29,
   "metadata": {
    "collapsed": false
   },
   "outputs": [
    {
     "name": "stdout",
     "output_type": "stream",
     "text": [
      "------count group by degree----------\n",
      "\n",
      "             salary\n",
      "degree             \n",
      "BACHELORS    175495\n",
      "DOCTORAL     175364\n",
      "HIGH_SCHOOL  236976\n",
      "MASTERS      175311\n",
      "NONE         236854\n",
      "------count group by major-----------\n",
      "\n",
      "             salary\n",
      "major              \n",
      "BIOLOGY       58379\n",
      "BUSINESS      58518\n",
      "CHEMISTRY     58875\n",
      "COMPSCI       58382\n",
      "ENGINEERING   58596\n",
      "LITERATURE    58684\n",
      "MATH          57801\n",
      "NONE         532355\n",
      "PHYSICS       58410\n",
      "\n",
      "FOUND OUT SOMETHING WRONG HERE\n",
      "\n",
      "THERE ARE MORE NONE IN THE MAJOR COLUMN THAN THE TOTAL OF HIGH SCHOOL AND NONE IN THE DEGREE COLUMN\n",
      "MEANING: THERE ARE NONES IN MAJOR COLUMN PURELY REPRESENTING MISSING VALUES\n"
     ]
    }
   ],
   "source": [
    "## major none is missing?\n",
    "\n",
    "print(\"------count group by degree----------\")\n",
    "print()\n",
    "print(fea_salary_merge[['degree','salary']].groupby(['degree']).count())\n",
    "\n",
    "print(\"------count group by major-----------\")\n",
    "print()\n",
    "print(fea_salary_merge[['major','salary']].groupby(['major']).count())\n",
    "\n",
    "print()\n",
    "print(\"FOUND OUT SOMETHING WRONG HERE\")\n",
    "\n",
    "print()\n",
    "print(\"THERE ARE MORE NONE IN THE MAJOR COLUMN THAN THE TOTAL OF HIGH SCHOOL AND NONE IN THE DEGREE COLUMN\")\n",
    "print(\"MEANING: THERE ARE NONES IN MAJOR COLUMN PURELY REPRESENTING MISSING VALUES\")"
   ]
  },
  {
   "cell_type": "code",
   "execution_count": 31,
   "metadata": {
    "collapsed": false
   },
   "outputs": [
    {
     "name": "stdout",
     "output_type": "stream",
     "text": [
      "-Cannot Get rid of those none representing missing in major column because later test data want us to predict-\n",
      "---Hence change those missing value nones to 'MISSING' type in the data---\n",
      "\n",
      "shape of cleaned data (999995, 9)\n"
     ]
    }
   ],
   "source": [
    "print(\"-Cannot Get rid of those none representing missing in major column because later test data want us to predict-\")\n",
    "print(\"---Hence change those missing value nones to 'MISSING' type in the data---\") #the other way is to predict using other data\n",
    "fea_salary_merge.ix[((fea_salary_merge['major']=='NONE') \\\n",
    "                &(fea_salary_merge['degree']!='NONE')\\\n",
    "                &(fea_salary_merge['degree']!='HIGH_SCHOOL')),'major']='MISSING'\n",
    "print()\n",
    "print(\"shape of cleaned data\",fea_salary_merge.shape)"
   ]
  },
  {
   "cell_type": "markdown",
   "metadata": {},
   "source": [
    "## Visualization for features\n",
    "### Pairplot for continuous variables"
   ]
  },
  {
   "cell_type": "code",
   "execution_count": 33,
   "metadata": {
    "collapsed": false
   },
   "outputs": [
    {
     "name": "stderr",
     "output_type": "stream",
     "text": [
      "/Users/DG430B/anaconda/lib/python3.5/site-packages/matplotlib/collections.py:590: FutureWarning: elementwise comparison failed; returning scalar instead, but in the future will perform elementwise comparison\n",
      "  if self._edgecolors == str('face'):\n"
     ]
    },
    {
     "data": {
      "image/png": "[encoded data removed]",
      "text/plain": [
       "<matplotlib.figure.Figure at 0x109c8dfd0>"
      ]
     },
     "metadata": {},
     "output_type": "display_data"
    }
   ],
   "source": [
    "%matplotlib inline\n",
    "import seaborn as sns\n",
    "sns.set(style=\"ticks\", color_codes=True)\n",
    "\n",
    "g = sns.pairplot(fea_salary_merge[['milesFromMetropolis','yearsExperience','salary']])"
   ]
  },
  {
   "cell_type": "markdown",
   "metadata": {},
   "source": [
    "### Boxplot to show the distribution of salary conditioned on levels of categorical variables"
   ]
  },
  {
   "cell_type": "code",
   "execution_count": 34,
   "metadata": {
    "collapsed": false
   },
   "outputs": [
    {
     "data": {
      "image/png": "[encoded data removed]",
      "text/plain": [
       "<matplotlib.figure.Figure at 0x1204a2c18>"
      ]
     },
     "metadata": {},
     "output_type": "display_data"
    }
   ],
   "source": [
    "ax = sns.boxplot(x=\"degree\", y=\"salary\", data=fea_salary_merge)"
   ]
  },
  {
   "cell_type": "code",
   "execution_count": 38,
   "metadata": {
    "collapsed": false
   },
   "outputs": [
    {
     "data": {
      "text/plain": [
       "[<matplotlib.text.Text at 0x1270796a0>,\n",
       " <matplotlib.text.Text at 0x12119ff60>,\n",
       " <matplotlib.text.Text at 0x12b9de0f0>,\n",
       " <matplotlib.text.Text at 0x12b9deba8>,\n",
       " <matplotlib.text.Text at 0x12b9e26a0>,\n",
       " <matplotlib.text.Text at 0x12b9e5198>,\n",
       " <matplotlib.text.Text at 0x12b9e5c50>,\n",
       " <matplotlib.text.Text at 0x12b9e9748>,\n",
       " <matplotlib.text.Text at 0x12b9ec240>,\n",
       " <matplotlib.text.Text at 0x12b9eccf8>]"
      ]
     },
     "execution_count": 38,
     "metadata": {},
     "output_type": "execute_result"
    },
    {
     "data": {
      "image/png": "[encoded data removed]",
      "text/plain": [
       "<matplotlib.figure.Figure at 0x1206005c0>"
      ]
     },
     "metadata": {},
     "output_type": "display_data"
    }
   ],
   "source": [
    "ax = sns.boxplot(x=\"major\", y=\"salary\", data=fea_salary_merge)\n",
    "labels=[\"MATH\",\"NONE\",\"PHYSICS\",\"CHEMISTRY\",\"COMPSCI\",\"BIOLOGY\",\"LITERATURE\",\"MISSING\",\"BUSINESS\",\"ENGINEERING\"]\n",
    "ax.set_xticklabels(labels,\n",
    "                   rotation=30)"
   ]
  },
  {
   "cell_type": "code",
   "execution_count": 39,
   "metadata": {
    "collapsed": false
   },
   "outputs": [
    {
     "data": {
      "image/png": "[encoded data removed]",
      "text/plain": [
       "<matplotlib.figure.Figure at 0x113ea3dd8>"
      ]
     },
     "metadata": {},
     "output_type": "display_data"
    }
   ],
   "source": [
    "ax = sns.boxplot(x=\"industry\", y=\"salary\", data=fea_salary_merge)"
   ]
  },
  {
   "cell_type": "code",
   "execution_count": 40,
   "metadata": {
    "collapsed": false
   },
   "outputs": [
    {
     "data": {
      "image/png": "[encoded data removed]",
      "text/plain": [
       "<matplotlib.figure.Figure at 0x1105632b0>"
      ]
     },
     "metadata": {},
     "output_type": "display_data"
    }
   ],
   "source": [
    "ax = sns.boxplot(x=\"jobType\", y=\"salary\", data=fea_salary_merge)"
   ]
  },
  {
   "cell_type": "code",
   "execution_count": 43,
   "metadata": {
    "collapsed": false
   },
   "outputs": [
    {
     "name": "stdout",
     "output_type": "stream",
     "text": [
      "\n",
      "------Salary across companys is similar--------\n"
     ]
    },
    {
     "data": {
      "image/png": "[encoded data removed]",
      "text/plain": [
       "<matplotlib.figure.Figure at 0x10b422b38>"
      ]
     },
     "metadata": {},
     "output_type": "display_data"
    }
   ],
   "source": [
    "sns.set(rc={\"figure.figsize\": (12, 8)})\n",
    "ax = sns.boxplot(x=\"companyId\", y=\"salary\", data=fea_salary_merge)\n",
    "Company=list(np.unique(fea_salary_merge['companyId']))\n",
    "ax.set_xticklabels(Company,rotation=90)\n",
    "print()\n",
    "print(\"------Salary across companys is similar--------\")"
   ]
  },
  {
   "cell_type": "markdown",
   "metadata": {},
   "source": [
    "# Data Encoding"
   ]
  },
  {
   "cell_type": "code",
   "execution_count": 39,
   "metadata": {
    "collapsed": false
   },
   "outputs": [
    {
     "data": {
      "text/plain": [
       "(999995, 9)"
      ]
     },
     "execution_count": 39,
     "metadata": {},
     "output_type": "execute_result"
    }
   ],
   "source": [
    "from sklearn import preprocessing\n",
    "feature_salary_cp=fea_salary_merge.copy()\n",
    "feature_salary_cp.shape"
   ]
  },
  {
   "cell_type": "markdown",
   "metadata": {},
   "source": [
    "### Data encoding for ordinal variables"
   ]
  },
  {
   "cell_type": "code",
   "execution_count": 40,
   "metadata": {
    "collapsed": false
   },
   "outputs": [
    {
     "name": "stdout",
     "output_type": "stream",
     "text": [
      "['BACHELORS' 'DOCTORAL' 'HIGH_SCHOOL' 'MASTERS' 'NONE']\n",
      "['CEO' 'CFO' 'CTO' 'JANITOR' 'JUNIOR' 'MANAGER' 'SENIOR' 'VICE_PRESIDENT']\n",
      "{'HIGH_SCHOOL': 1, 'DOCTORAL': 4, 'NONE': 0, 'BACHELORS': 2, 'MASTERS': 3}\n",
      "{'JUNIOR': 1, 'CTO': 6, 'SENIOR': 2, 'MANAGER': 3, 'JANITOR': 0, 'VICE_PRESIDENT': 4, 'CFO': 5, 'CEO': 7}\n",
      "--ORDINAL VARIABLES ENCODING DONE-----\n"
     ]
    }
   ],
   "source": [
    "degree_type=np.unique(fea_salary_merge['degree'])\n",
    "job_type=np.unique(fea_salary_merge['jobType'])\n",
    "print(degree_type)\n",
    "print(job_type)\n",
    "degree_dict=dict(zip(degree_type,[2,4,1,3,0]))\n",
    "job_dict=dict(zip(job_type,[7,5,6,0,1,3,2,4]))\n",
    "print(degree_dict)\n",
    "print(job_dict)\n",
    "feature_salary_cp['degree_label']=feature_salary_cp['degree'].apply(lambda x: degree_dict[x])\n",
    "feature_salary_cp['jobtype_label']=feature_salary_cp['jobType'].apply(lambda x: job_dict[x])\n",
    "print(\"--ORDINAL VARIABLES ENCODING DONE-----\")"
   ]
  },
  {
   "cell_type": "markdown",
   "metadata": {
    "collapsed": true
   },
   "source": [
    "### Data encoding for nominal variables(dummy one hot encoder)"
   ]
  },
  {
   "cell_type": "code",
   "execution_count": 41,
   "metadata": {
    "collapsed": false
   },
   "outputs": [
    {
     "data": {
      "text/html": [
       "<div>\n",
       "<table border=\"1\" class=\"dataframe\">\n",
       "  <thead>\n",
       "    <tr style=\"text-align: right;\">\n",
       "      <th></th>\n",
       "      <th>degree_label</th>\n",
       "      <th>major_label</th>\n",
       "      <th>industry_label</th>\n",
       "      <th>jobtype_label</th>\n",
       "    </tr>\n",
       "  </thead>\n",
       "  <tbody>\n",
       "    <tr>\n",
       "      <th>0</th>\n",
       "      <td>3</td>\n",
       "      <td>6</td>\n",
       "      <td>3</td>\n",
       "      <td>5</td>\n",
       "    </tr>\n",
       "    <tr>\n",
       "      <th>1</th>\n",
       "      <td>1</td>\n",
       "      <td>8</td>\n",
       "      <td>6</td>\n",
       "      <td>7</td>\n",
       "    </tr>\n",
       "    <tr>\n",
       "      <th>2</th>\n",
       "      <td>4</td>\n",
       "      <td>9</td>\n",
       "      <td>3</td>\n",
       "      <td>4</td>\n",
       "    </tr>\n",
       "    <tr>\n",
       "      <th>3</th>\n",
       "      <td>4</td>\n",
       "      <td>2</td>\n",
       "      <td>0</td>\n",
       "      <td>3</td>\n",
       "    </tr>\n",
       "    <tr>\n",
       "      <th>4</th>\n",
       "      <td>2</td>\n",
       "      <td>9</td>\n",
       "      <td>2</td>\n",
       "      <td>4</td>\n",
       "    </tr>\n",
       "  </tbody>\n",
       "</table>\n",
       "</div>"
      ],
      "text/plain": [
       "   degree_label  major_label  industry_label  jobtype_label\n",
       "0             3            6               3              5\n",
       "1             1            8               6              7\n",
       "2             4            9               3              4\n",
       "3             4            2               0              3\n",
       "4             2            9               2              4"
      ]
     },
     "execution_count": 41,
     "metadata": {},
     "output_type": "execute_result"
    }
   ],
   "source": [
    "label_encoder=[]\n",
    "'''le1 = preprocessing.LabelEncoder()\n",
    "le1.fit(feature_salary_cp['degree'])\n",
    "feature_salary_cp['degree_label']=le1.transform(feature_salary_cp['degree'])\n",
    "label_encoder.append(le1)'''\n",
    "\n",
    "le2 = preprocessing.LabelEncoder()\n",
    "le2.fit(feature_salary_cp['major'])\n",
    "feature_salary_cp['major_label']=le2.transform(feature_salary_cp['major'])\n",
    "label_encoder.append(le2)\n",
    "\n",
    "le3 = preprocessing.LabelEncoder()\n",
    "le3.fit(feature_salary_cp['industry'])\n",
    "feature_salary_cp['industry_label']=le3.transform(feature_salary_cp['industry'])\n",
    "label_encoder.append(le3)\n",
    "\n",
    "'''le4 = preprocessing.LabelEncoder()\n",
    "le4.fit(feature_salary_cp['jobType'])\n",
    "feature_salary_cp['jobtype_label']=le4.transform(feature_salary_cp['jobType'])\n",
    "label_encoder.append(le4)'''\n",
    "\n",
    "'''le5 = preprocessing.LabelEncoder()\n",
    "le5.fit(feature_salary_cp['companyId'])\n",
    "feature_salary_cp['company_label']=le5.transform(feature_salary_cp['companyId'])\n",
    "label_encoder.append(le5)'''\n",
    "\n",
    "feature_salary_cp[['degree_label','major_label','industry_label','jobtype_label']].head()"
   ]
  },
  {
   "cell_type": "code",
   "execution_count": 42,
   "metadata": {
    "collapsed": false
   },
   "outputs": [
    {
     "data": {
      "text/plain": [
       "(999995, 17)"
      ]
     },
     "execution_count": 42,
     "metadata": {},
     "output_type": "execute_result"
    }
   ],
   "source": [
    "enc = preprocessing.OneHotEncoder()\n",
    "enc.fit(feature_salary_cp[['major_label','industry_label']])\n",
    "feature_encode=enc.transform(feature_salary_cp[['major_label','industry_label']]).toarray()\n",
    "feature_encode.shape"
   ]
  },
  {
   "cell_type": "code",
   "execution_count": 43,
   "metadata": {
    "collapsed": false
   },
   "outputs": [
    {
     "name": "stdout",
     "output_type": "stream",
     "text": [
      "------column names for dummy variables-------\n",
      "\n",
      "['BIOLOGY', 'BUSINESS', 'CHEMISTRY', 'COMPSCI', 'ENGINEERING', 'LITERATURE', 'MATH', 'MISSING', 'NONE', 'PHYSICS', 'AUTO', 'EDUCATION', 'FINANCE', 'HEALTH', 'OIL', 'SERVICE', 'WEB']\n"
     ]
    }
   ],
   "source": [
    "print(\"------column names for dummy variables-------\")\n",
    "print()\n",
    "col_name=[]\n",
    "\n",
    "start=0\n",
    "for ind,i in enumerate(enc.feature_indices_[1:]):\n",
    "    lookup=label_encoder[ind]\n",
    "    #print lookup\n",
    "    for j in range(i-start):\n",
    "        col_name.append(lookup.inverse_transform(j))\n",
    "    start=i\n",
    "print(col_name)"
   ]
  },
  {
   "cell_type": "markdown",
   "metadata": {},
   "source": [
    "### Integrate all the encoded variables with others"
   ]
  },
  {
   "cell_type": "code",
   "execution_count": 44,
   "metadata": {
    "collapsed": false
   },
   "outputs": [
    {
     "name": "stdout",
     "output_type": "stream",
     "text": [
      "---columns for all variables-----\n",
      "Index(['BIOLOGY', 'BUSINESS', 'CHEMISTRY', 'ENGINEERING', 'LITERATURE', 'MATH',\n",
      "       'MISSING', 'NONE', 'PHYSICS', 'AUTO', 'EDUCATION', 'HEALTH', 'OIL',\n",
      "       'SERVICE', 'WEB', 'yearsExperience', 'milesFromMetropolis', 'salary',\n",
      "       'degree_label', 'jobtype_label'],\n",
      "      dtype='object')\n",
      "\n",
      "---columns for all independent variables-----\n",
      "Index(['BIOLOGY', 'BUSINESS', 'CHEMISTRY', 'ENGINEERING', 'LITERATURE', 'MATH',\n",
      "       'MISSING', 'NONE', 'PHYSICS', 'AUTO', 'EDUCATION', 'HEALTH', 'OIL',\n",
      "       'SERVICE', 'WEB', 'yearsExperience', 'milesFromMetropolis',\n",
      "       'degree_label', 'jobtype_label'],\n",
      "      dtype='object')\n",
      "\n"
     ]
    }
   ],
   "source": [
    "df_encode=pd.DataFrame(feature_encode,columns=col_name,dtype=int)\n",
    "df_encode=df_encode.drop([\"COMPSCI\",\"FINANCE\"],axis=1)\n",
    "df_numerical=feature_salary_cp[['yearsExperience','milesFromMetropolis','salary','degree_label','jobtype_label']]\n",
    "df_numerical.index=range(df_numerical.shape[0])\n",
    "df_xy=df_encode.join(df_numerical)\n",
    "print(\"---columns for all variables-----\")\n",
    "print(df_xy.columns)\n",
    "print()\n",
    "df_x=df_xy.drop(['salary'],axis=1)\n",
    "print(\"---columns for all independent variables-----\")\n",
    "print(df_x.columns)\n",
    "print()\n",
    "df_y=df_xy['salary']"
   ]
  },
  {
   "cell_type": "markdown",
   "metadata": {},
   "source": [
    "### add two-way interaction terms"
   ]
  },
  {
   "cell_type": "code",
   "execution_count": 45,
   "metadata": {
    "collapsed": false
   },
   "outputs": [
    {
     "data": {
      "text/html": [
       "<div>\n",
       "<table border=\"1\" class=\"dataframe\">\n",
       "  <thead>\n",
       "    <tr style=\"text-align: right;\">\n",
       "      <th></th>\n",
       "      <th>0</th>\n",
       "      <th>1</th>\n",
       "      <th>2</th>\n",
       "      <th>3</th>\n",
       "      <th>4</th>\n",
       "      <th>5</th>\n",
       "      <th>6</th>\n",
       "      <th>7</th>\n",
       "      <th>8</th>\n",
       "      <th>9</th>\n",
       "      <th>...</th>\n",
       "      <th>182</th>\n",
       "      <th>183</th>\n",
       "      <th>184</th>\n",
       "      <th>185</th>\n",
       "      <th>186</th>\n",
       "      <th>187</th>\n",
       "      <th>188</th>\n",
       "      <th>189</th>\n",
       "      <th>190</th>\n",
       "      <th>salary</th>\n",
       "    </tr>\n",
       "  </thead>\n",
       "  <tbody>\n",
       "    <tr>\n",
       "      <th>0</th>\n",
       "      <td>1</td>\n",
       "      <td>0</td>\n",
       "      <td>0</td>\n",
       "      <td>0</td>\n",
       "      <td>0</td>\n",
       "      <td>0</td>\n",
       "      <td>1</td>\n",
       "      <td>0</td>\n",
       "      <td>0</td>\n",
       "      <td>0</td>\n",
       "      <td>...</td>\n",
       "      <td>0</td>\n",
       "      <td>0</td>\n",
       "      <td>0</td>\n",
       "      <td>830</td>\n",
       "      <td>30</td>\n",
       "      <td>50</td>\n",
       "      <td>249</td>\n",
       "      <td>415</td>\n",
       "      <td>15</td>\n",
       "      <td>130</td>\n",
       "    </tr>\n",
       "    <tr>\n",
       "      <th>1</th>\n",
       "      <td>1</td>\n",
       "      <td>0</td>\n",
       "      <td>0</td>\n",
       "      <td>0</td>\n",
       "      <td>0</td>\n",
       "      <td>0</td>\n",
       "      <td>0</td>\n",
       "      <td>0</td>\n",
       "      <td>1</td>\n",
       "      <td>0</td>\n",
       "      <td>...</td>\n",
       "      <td>73</td>\n",
       "      <td>1</td>\n",
       "      <td>7</td>\n",
       "      <td>219</td>\n",
       "      <td>3</td>\n",
       "      <td>21</td>\n",
       "      <td>73</td>\n",
       "      <td>511</td>\n",
       "      <td>7</td>\n",
       "      <td>101</td>\n",
       "    </tr>\n",
       "    <tr>\n",
       "      <th>2</th>\n",
       "      <td>1</td>\n",
       "      <td>0</td>\n",
       "      <td>0</td>\n",
       "      <td>0</td>\n",
       "      <td>0</td>\n",
       "      <td>0</td>\n",
       "      <td>0</td>\n",
       "      <td>0</td>\n",
       "      <td>0</td>\n",
       "      <td>1</td>\n",
       "      <td>...</td>\n",
       "      <td>0</td>\n",
       "      <td>0</td>\n",
       "      <td>0</td>\n",
       "      <td>380</td>\n",
       "      <td>40</td>\n",
       "      <td>40</td>\n",
       "      <td>152</td>\n",
       "      <td>152</td>\n",
       "      <td>16</td>\n",
       "      <td>137</td>\n",
       "    </tr>\n",
       "    <tr>\n",
       "      <th>3</th>\n",
       "      <td>1</td>\n",
       "      <td>0</td>\n",
       "      <td>0</td>\n",
       "      <td>1</td>\n",
       "      <td>0</td>\n",
       "      <td>0</td>\n",
       "      <td>0</td>\n",
       "      <td>0</td>\n",
       "      <td>0</td>\n",
       "      <td>0</td>\n",
       "      <td>...</td>\n",
       "      <td>0</td>\n",
       "      <td>0</td>\n",
       "      <td>0</td>\n",
       "      <td>136</td>\n",
       "      <td>32</td>\n",
       "      <td>24</td>\n",
       "      <td>68</td>\n",
       "      <td>51</td>\n",
       "      <td>12</td>\n",
       "      <td>142</td>\n",
       "    </tr>\n",
       "    <tr>\n",
       "      <th>4</th>\n",
       "      <td>1</td>\n",
       "      <td>0</td>\n",
       "      <td>0</td>\n",
       "      <td>0</td>\n",
       "      <td>0</td>\n",
       "      <td>0</td>\n",
       "      <td>0</td>\n",
       "      <td>0</td>\n",
       "      <td>0</td>\n",
       "      <td>1</td>\n",
       "      <td>...</td>\n",
       "      <td>0</td>\n",
       "      <td>0</td>\n",
       "      <td>0</td>\n",
       "      <td>128</td>\n",
       "      <td>16</td>\n",
       "      <td>32</td>\n",
       "      <td>32</td>\n",
       "      <td>64</td>\n",
       "      <td>8</td>\n",
       "      <td>163</td>\n",
       "    </tr>\n",
       "  </tbody>\n",
       "</table>\n",
       "<p>5 rows × 192 columns</p>\n",
       "</div>"
      ],
      "text/plain": [
       "   0  1  2  3  4  5  6  7  8  9   ...    182  183  184  185  186  187  188  \\\n",
       "0  1  0  0  0  0  0  1  0  0  0   ...      0    0    0  830   30   50  249   \n",
       "1  1  0  0  0  0  0  0  0  1  0   ...     73    1    7  219    3   21   73   \n",
       "2  1  0  0  0  0  0  0  0  0  1   ...      0    0    0  380   40   40  152   \n",
       "3  1  0  0  1  0  0  0  0  0  0   ...      0    0    0  136   32   24   68   \n",
       "4  1  0  0  0  0  0  0  0  0  1   ...      0    0    0  128   16   32   32   \n",
       "\n",
       "   189  190  salary  \n",
       "0  415   15     130  \n",
       "1  511    7     101  \n",
       "2  152   16     137  \n",
       "3   51   12     142  \n",
       "4   64    8     163  \n",
       "\n",
       "[5 rows x 192 columns]"
      ]
     },
     "execution_count": 45,
     "metadata": {},
     "output_type": "execute_result"
    }
   ],
   "source": [
    "from sklearn.preprocessing import PolynomialFeatures\n",
    "poly = PolynomialFeatures(interaction_only=True)\n",
    "\n",
    "## without salary but with intercept\n",
    "df_poly=pd.DataFrame(poly.fit_transform(df_x))\n",
    "\n",
    "## without salary and intercept\n",
    "df_poly_w_o_intercept=pd.DataFrame(poly.fit_transform(df_x)[:,1:])\n",
    "\n",
    "## with salary and no intercept\n",
    "df_poly_w_salary=pd.DataFrame(poly.fit_transform(df_x)[:,1:])\n",
    "df_poly_w_salary['salary']=df_xy['salary']\n",
    "\n",
    "## with salary and intercept\n",
    "df_poly_w_salary_intercept=df_poly.copy()\n",
    "df_poly_w_salary_intercept['salary']=df_xy['salary']\n",
    "df_poly_w_salary_intercept.head()"
   ]
  },
  {
   "cell_type": "markdown",
   "metadata": {},
   "source": [
    "### column names of features"
   ]
  },
  {
   "cell_type": "code",
   "execution_count": 14,
   "metadata": {
    "collapsed": true
   },
   "outputs": [],
   "source": [
    "def Col_Name_Features(model,n=18):\n",
    "    '''\n",
    "    Get Significant Feature Names Selected by the Model\n",
    "    ** model: model\n",
    "    ** n: number of original feature\n",
    "    return significant column names\n",
    "    '''\n",
    "    \n",
    "    var,significant_col=[],[]\n",
    "    for i in range(n):\n",
    "       var.append('x'+str(i))\n",
    "    var_dict=dict(zip(var,df_x.columns))\n",
    "    \n",
    "    for i in np.array(poly.get_feature_names()[1:])[model.coef_!=0]:\n",
    "        if len(i.split(\" \"))==1:\n",
    "           significant_col.append(var_dict[i])\n",
    "        else:\n",
    "            ls=\"\"\n",
    "            for j in i.split(\" \"):\n",
    "                ls=ls+\" \"+var_dict[j]\n",
    "            significant_col.append(ls)\n",
    "            var_dict[i]=ls\n",
    "    print(significant_col)\n",
    "    return var_dict,significant_col    "
   ]
  },
  {
   "cell_type": "markdown",
   "metadata": {},
   "source": [
    "# Model and Evaluation"
   ]
  },
  {
   "cell_type": "code",
   "execution_count": 20,
   "metadata": {
    "collapsed": false
   },
   "outputs": [],
   "source": [
    "from sklearn.cross_validation import KFold\n",
    "from sklearn.cross_validation import train_test_split\n",
    "from sklearn.metrics import mean_squared_error,mean_absolute_error\n",
    "from sklearn import linear_model\n",
    "import scipy\n",
    "from sklearn.model_selection import RandomizedSearchCV\n",
    "import statsmodels.api as sm\n",
    "\n",
    "\n",
    "\n",
    "def PredictiveModel_CV(func,params,df,fold,verbose=False):\n",
    "    '''\n",
    "    EVALUATION MSE USING CROSS VALIDATION FOR PREDICTIVE MODELS\n",
    "    GIVEN MODEL, PARAMETER AND DATA,  RETURN RMSE AND MODELS\n",
    "    ** FUNC: MODEL FUNCTION IN SCIKIT LEARN\n",
    "    ** PARAMS: PARAMETERS FOR THE MODEL\n",
    "    ** DF: DATA\n",
    "    ** VERBOSE: PRINT OUT MODEL RESULTS\n",
    "    return models and rmse\n",
    "    '''\n",
    "    df_x=df.drop(['salary'],axis=1)\n",
    "    df_y=df['salary']\n",
    "    \n",
    "    rmse,model=[],[]\n",
    "    if fold>1: ## K fold cross validation\n",
    "        kf = KFold(df.shape[0], n_folds=fold,shuffle=True)#K FOLD\n",
    "        i=0\n",
    "        for train, test in kf:\n",
    "            ## TRAINING SET AND TESTING SET\n",
    "            training_x,testing_x=df_x.iloc[train].values,df_x.iloc[test].values\n",
    "            training_y,testing_y=df_y.iloc[train].values,df_y.iloc[test].values\n",
    "            ### MODEL INITIALIZATION AND FIT\n",
    "            reg = func(**params)\n",
    "            reg.fit(scipy.sparse.csr_matrix(training_x),training_y)\n",
    "            #print reg.coef_\n",
    "            model.append(reg)\n",
    "            ### MODEL PREDICTION\n",
    "            y = reg.predict(testing_x)\n",
    "            rmse_val=mean_squared_error(testing_y, y)\n",
    "            print(rmse_val)\n",
    "            rmse.append(rmse_val)\n",
    "\n",
    "            ### PRINT OUT RESULT\n",
    "            if verbose:\n",
    "                print(\"model {}:\".format(i))\n",
    "                print()\n",
    "                print(\"Mean squared error: %.2f\"\n",
    "                      % np.mean((reg.predict(testing_x) - testing_y) ** 2))\n",
    "                # Explained variance score: 1 is perfect prediction\n",
    "                print('Variance score: %.2f' % reg.score(testing_x,  testing_y))\n",
    "                i+=1\n",
    "    elif fold==0:  ## use the entire dataset\n",
    "        \n",
    "        reg = func(**params)\n",
    "        reg.fit(scipy.sparse.csr_matrix(df_x.values),df_y.values)\n",
    "        return rmse,reg\n",
    "        \n",
    "                \n",
    "    else: \n",
    "        ### used when we just want to test out which algorithm performs best.\n",
    "        \n",
    "        \n",
    "        X_train, X_test, y_train, y_test = train_test_split(df_x.values,\n",
    "                                                    df_y.values)\n",
    "        clf=func(**params)\n",
    "        clf.fit(X_train,y_train)\n",
    "        y_pred=clf.predict(X_test)\n",
    "        rmse_val=mean_squared_error(y_pred,y_test)\n",
    "        print(rmse_val)\n",
    "        rmse.append(rmse_val)\n",
    "        model.append(clf)\n",
    "        \n",
    "            \n",
    "    ### RETURN LIST OF RMSE AND LIST OF MODELS        \n",
    "    return rmse,model\n",
    "\n",
    "\n",
    "\n",
    "\n",
    "\n",
    "def HyperparameterTuning(clf,param_dist,n_iter_search):\n",
    "    '''\n",
    "    Hyperparameter Tuning using random search\n",
    "    ** CLF: MODEL\n",
    "    ** PARAM_DIST: PARAMETER DICTIONARY: specify parameters and distributions to sample from\n",
    "    ** N_ITER_SEARCH: NUMBER OF ITERATION\n",
    "    return search results\n",
    "    '''\n",
    "    def report(results, n_top=3):\n",
    "        for i in range(1, n_top + 1):\n",
    "            candidates = np.flatnonzero(results['rank_test_score'] == i)\n",
    "            for candidate in candidates:\n",
    "                print(\"Model with rank: {0}\".format(i))\n",
    "                print(\"Mean validation score: {0:.3f} (std: {1:.3f})\".format(\n",
    "                      results['mean_test_score'][candidate],\n",
    "                      results['std_test_score'][candidate]))\n",
    "                print(\"Parameters: {0}\".format(results['params'][candidate]))\n",
    "                print(\"\")\n",
    "    \n",
    "    random_search = RandomizedSearchCV(clf, param_distributions=param_dist,\n",
    "                                       n_iter=n_iter_search)\n",
    "    random_search.fit(X, y)\n",
    "    report(random_search)\n",
    "    return random_search\n",
    "\n",
    "\n",
    "\n",
    "def SummaryModel_w_ALL(df_w_intercept,df_y,regularize=False,verbose=False):\n",
    "    '''\n",
    "    Use all data to get summary results(for regression mainly)\n",
    "    **df_w_intercept: features with intercept\n",
    "    **df_y: salary\n",
    "    **regularize: whether to use regularized terms in the model(slow)\n",
    "    **verbose: whether to print out the summary\n",
    "    \n",
    "    return fitted model\n",
    "    '''\n",
    "                                                    \n",
    "    model1 = sm.OLS(df_y.values, df_w_intercept.values)\n",
    "    if regularize:\n",
    "        results = model1.fit_regularized()\n",
    "    else:\n",
    "        results = model1.fit()\n",
    "    if verbose:\n",
    "        print(results.summary())\n",
    "    \n",
    "    return results\n",
    "\n",
    "\n",
    "\n"
   ]
  },
  {
   "cell_type": "markdown",
   "metadata": {},
   "source": [
    "### Regression and Lasso"
   ]
  },
  {
   "cell_type": "code",
   "execution_count": 46,
   "metadata": {
    "collapsed": false
   },
   "outputs": [
    {
     "name": "stdout",
     "output_type": "stream",
     "text": [
      "362.410910531\n"
     ]
    }
   ],
   "source": [
    "rmse_REG,model_REG=PredictiveModel_CV(linear_model.LinearRegression,{},df_poly_w_salary,1)"
   ]
  },
  {
   "cell_type": "code",
   "execution_count": 18,
   "metadata": {
    "collapsed": false
   },
   "outputs": [
    {
     "name": "stdout",
     "output_type": "stream",
     "text": [
      "379.91968816\n"
     ]
    }
   ],
   "source": [
    "rmse_lasso,model_lasso=PredictiveModel_CV(linear_model.Lasso,{\"alpha\":0.1},df_poly_w_salary,1)"
   ]
  },
  {
   "cell_type": "markdown",
   "metadata": {},
   "source": [
    "### Random Forest and Gradient Boosting Trees"
   ]
  },
  {
   "cell_type": "code",
   "execution_count": 64,
   "metadata": {
    "collapsed": false
   },
   "outputs": [
    {
     "data": {
      "text/plain": [
       "381.404041"
      ]
     },
     "execution_count": 64,
     "metadata": {},
     "output_type": "execute_result"
    }
   ],
   "source": [
    "from sklearn.ensemble import RandomForestRegressor\n",
    "params={'n_estimators': 30,'max_depth':20}\n",
    "rmse_RF,model_RF=PredictiveModel(RandomForestRegressor,params,df_poly_w_salary,1)"
   ]
  },
  {
   "cell_type": "code",
   "execution_count": 65,
   "metadata": {
    "collapsed": false
   },
   "outputs": [
    {
     "data": {
      "text/plain": [
       "383.0561"
      ]
     },
     "execution_count": 65,
     "metadata": {},
     "output_type": "execute_result"
    }
   ],
   "source": [
    "from sklearn.ensemble import GradientBoostingRegressor\n",
    "\n",
    "params={'n_estimators': 30,'max_depth':20}\n",
    "rmse_RF,model_RF=PredictiveModel(GradientBoostingRegressor,params,df_poly_w_salary,1)"
   ]
  },
  {
   "cell_type": "markdown",
   "metadata": {},
   "source": [
    "### Model Trees and KNN"
   ]
  },
  {
   "cell_type": "code",
   "execution_count": 58,
   "metadata": {
    "collapsed": false
   },
   "outputs": [
    {
     "data": {
      "text/plain": [
       "(391, 3)"
      ]
     },
     "execution_count": 58,
     "metadata": {},
     "output_type": "execute_result"
    }
   ],
   "source": [
    "## Given those categories, assume the variation within a specific category \n",
    "## would not be so much, hence KNN could give good result\n",
    "data1=fea_salary_merge[(fea_salary_merge.jobType=='CEO') &(fea_salary_merge.degree=='MASTERS') &(fea_salary_merge.major=='BIOLOGY')&\\\n",
    "                (fea_salary_merge.industry=='AUTO')][['yearsExperience','salary','milesFromMetropolis']]\n",
    "data1.index=range(data1.shape[0])\n",
    "data1.shape"
   ]
  },
  {
   "cell_type": "code",
   "execution_count": 59,
   "metadata": {
    "collapsed": false
   },
   "outputs": [
    {
     "name": "stderr",
     "output_type": "stream",
     "text": [
      "/Users/DG430B/anaconda/lib/python3.5/site-packages/matplotlib/collections.py:590: FutureWarning: elementwise comparison failed; returning scalar instead, but in the future will perform elementwise comparison\n",
      "  if self._edgecolors == str('face'):\n"
     ]
    },
    {
     "data": {
      "text/plain": [
       "<mpl_toolkits.mplot3d.art3d.Path3DCollection at 0x12aa46978>"
      ]
     },
     "execution_count": 59,
     "metadata": {},
     "output_type": "execute_result"
    },
    {
     "data": {
      "image/png": "[encoded data removed]",
      "text/plain": [
       "<matplotlib.figure.Figure at 0x1096d4c88>"
      ]
     },
     "metadata": {},
     "output_type": "display_data"
    }
   ],
   "source": [
    "## 3d visualization to see the data\n",
    "import matplotlib.cm as cm\n",
    "from mpl_toolkits.mplot3d import Axes3D\n",
    "\n",
    "\n",
    "fig = plt.figure()\n",
    "ax = fig.gca(projection='3d')\n",
    "ax.scatter(data1.milesFromMetropolis,data1.yearsExperience,data1.salary)#,c=data1.industry.apply(lambda x: colors[x])"
   ]
  },
  {
   "cell_type": "markdown",
   "metadata": {},
   "source": [
    "### K-Nearest-Neighbor to predict salary"
   ]
  },
  {
   "cell_type": "code",
   "execution_count": 29,
   "metadata": {
    "collapsed": false
   },
   "outputs": [],
   "source": [
    "from sklearn.neighbors import KDTree\n",
    "data_x=data1[['yearsExperience','milesFromMetropolis']]\n",
    "data_y=data1['salary']\n",
    "data_x=pd.DataFrame(preprocessing.scale(data_x))\n",
    "rmse=[]\n",
    "kf = KFold(data1.shape[0], n_folds=10,shuffle=True)\n",
    "\n",
    "for train, test in kf:\n",
    "    training_x,testing_x=data_x.iloc[train],data_x.iloc[test]\n",
    "    training_y,testing_y=data_y.iloc[train],data_y.iloc[test]\n",
    "    kdt = KDTree(training_x.values, leaf_size=30, metric='euclidean')\n",
    "    dist,ind=kdt.query(testing_x.values, k=9)\n",
    "    #print ind\n",
    "    pred_y=pd.DataFrame(ind).apply(lambda x:sum(training_y.values[x])/9,axis=1)\n",
    "    #print reg.coef_\n",
    "    rmse.append(mean_squared_error(testing_y, pred_y))"
   ]
  },
  {
   "cell_type": "code",
   "execution_count": 30,
   "metadata": {
    "collapsed": false
   },
   "outputs": [
    {
     "data": {
      "text/plain": [
       "463.14537995035062"
      ]
     },
     "execution_count": 30,
     "metadata": {},
     "output_type": "execute_result"
    }
   ],
   "source": [
    "np.mean(rmse)"
   ]
  },
  {
   "cell_type": "markdown",
   "metadata": {},
   "source": [
    "### Multi-Layer Perceptron (Better perfomance than regression, but way hard to explain)"
   ]
  },
  {
   "cell_type": "code",
   "execution_count": 94,
   "metadata": {
    "collapsed": true
   },
   "outputs": [],
   "source": [
    "from sklearn.neural_network import MLPRegressor\n",
    "rmse_mlp,model_mlp=PredictiveModel(MLPRegressor,{\"activation\":'logistic','hidden_layer_sizes':(20,100)},df_poly_w_salary)"
   ]
  },
  {
   "cell_type": "code",
   "execution_count": 96,
   "metadata": {
    "collapsed": false
   },
   "outputs": [
    {
     "data": {
      "text/plain": [
       "[358.04444883286988,\n",
       " 363.00513490156061,\n",
       " 355.88861761731243,\n",
       " 359.23937941589929,\n",
       " 359.40404145872327,\n",
       " 357.36527407992105,\n",
       " 356.54013402588606,\n",
       " 357.06025195272105,\n",
       " 358.47671103712213,\n",
       " 357.7777098033618]"
      ]
     },
     "execution_count": 96,
     "metadata": {},
     "output_type": "execute_result"
    }
   ],
   "source": [
    "np.mean(rmse_mlp)"
   ]
  },
  {
   "cell_type": "markdown",
   "metadata": {},
   "source": [
    "### K prototypes Methods( too slow) \n",
    "\n",
    "### won't work well since even a specific category shown in the model tree method cannot provide accurate result"
   ]
  },
  {
   "cell_type": "code",
   "execution_count": null,
   "metadata": {
    "collapsed": true
   },
   "outputs": [],
   "source": [
    "### require install kmodes\n",
    "from kmodes import kprototypes\n",
    "X=fea_salary_merge[['jobType', 'degree', 'major', 'industry','yearsExperience', 'milesFromMetropolis']].values\n",
    "Y=fea_salary_merge['salary'].values\n",
    "X[:,:4]=X[:,:4].astype(object)\n",
    "X[:,4:6]=X[:,4:6].astype(int)\n",
    "print X.shape, Y.shape"
   ]
  },
  {
   "cell_type": "code",
   "execution_count": null,
   "metadata": {
    "collapsed": true
   },
   "outputs": [],
   "source": [
    "kproto = kprototypes.KPrototypes(n_clusters=6, init='Cao', verbose=2)\n",
    "clusters = kproto.fit_predict(X, categorical=[0, 1,2,3])\n",
    "\n",
    "print(kproto.cluster_centroids_)\n",
    "# Print training statistics\n",
    "print(kproto.cost_)\n",
    "print(kproto.n_iter_)\n"
   ]
  },
  {
   "cell_type": "markdown",
   "metadata": {
    "collapsed": true
   },
   "source": [
    "### Summary of linear models"
   ]
  },
  {
   "cell_type": "code",
   "execution_count": 57,
   "metadata": {
    "collapsed": false
   },
   "outputs": [
    {
     "name": "stdout",
     "output_type": "stream",
     "text": [
      "                            OLS Regression Results                            \n",
      "==============================================================================\n",
      "Dep. Variable:                      y   R-squared:                       0.758\n",
      "Model:                            OLS   Adj. R-squared:                  0.758\n",
      "Method:                 Least Squares   F-statistic:                 2.251e+04\n",
      "Date:                Tue, 25 Oct 2016   Prob (F-statistic):               0.00\n",
      "Time:                        13:20:28   Log-Likelihood:            -4.3661e+06\n",
      "No. Observations:              999995   AIC:                         8.732e+06\n",
      "Df Residuals:                  999855   BIC:                         8.734e+06\n",
      "Df Model:                         139                                         \n",
      "Covariance Type:            nonrobust                                         \n",
      "==============================================================================\n",
      "                 coef    std err          t      P>|t|      [95.0% Conf. Int.]\n",
      "------------------------------------------------------------------------------\n",
      "const         86.0368      0.567    151.774      0.000        84.926    87.148\n",
      "x1            -7.0264      0.613    -11.467      0.000        -8.227    -5.825\n",
      "x2            17.6535      0.611     28.882      0.000        16.456    18.852\n",
      "x3            -5.9443      0.611     -9.727      0.000        -7.142    -4.747\n",
      "x4             6.4850      0.611     10.622      0.000         5.288     7.682\n",
      "x5           -10.5504      0.612    -17.247      0.000       -11.749    -9.351\n",
      "x6            -2.7897      0.614     -4.541      0.000        -3.994    -1.586\n",
      "x7           -10.4756      0.613    -17.086      0.000       -11.677    -9.274\n",
      "x8           -16.2205      0.524    -30.959      0.000       -17.247   -15.194\n",
      "x9            -4.5492      0.613     -7.419      0.000        -5.751    -3.347\n",
      "x10          -19.9047      0.479    -41.533      0.000       -20.844   -18.965\n",
      "x11          -29.7717      0.479    -62.164      0.000       -30.710   -28.833\n",
      "x12          -14.5560      0.480    -30.351      0.000       -15.496   -13.616\n",
      "x13            0.7032      0.479      1.469      0.142        -0.235     1.642\n",
      "x14          -24.2888      0.479    -50.701      0.000       -25.228   -23.350\n",
      "x15           -9.6460      0.478    -20.171      0.000       -10.583    -8.709\n",
      "x16            2.9671      0.018    161.196      0.000         2.931     3.003\n",
      "x17           -0.1706      0.005    -37.269      0.000        -0.180    -0.162\n",
      "x18            3.9016      0.145     26.827      0.000         3.617     4.187\n",
      "x19            7.5756      0.063    120.709      0.000         7.453     7.699\n",
      "x20         -2.57e-12   4.38e-13     -5.868      0.000     -3.43e-12 -1.71e-12\n",
      "x21         8.261e-13   6.69e-14     12.350      0.000      6.95e-13  9.57e-13\n",
      "x22         -7.64e-13   5.53e-14    -13.823      0.000     -8.72e-13 -6.56e-13\n",
      "x23        -2.034e-12   2.43e-13     -8.380      0.000     -2.51e-12 -1.56e-12\n",
      "x24        -1.079e-12   1.51e-13     -7.148      0.000     -1.37e-12 -7.83e-13\n",
      "x25         5.309e-13   7.44e-14      7.135      0.000      3.85e-13  6.77e-13\n",
      "x26          2.93e-12   3.14e-13      9.346      0.000      2.32e-12  3.54e-12\n",
      "x27         2.887e-12   2.96e-13      9.766      0.000      2.31e-12  3.47e-12\n",
      "x28            0.3871      0.418      0.925      0.355        -0.433     1.207\n",
      "x29            0.2261      0.417      0.542      0.588        -0.592     1.044\n",
      "x30           14.9845      0.417     35.918      0.000        14.167    15.802\n",
      "x31           -0.0942      0.418     -0.225      0.822        -0.914     0.725\n",
      "x32            0.0558      0.418      0.134      0.894        -0.763     0.874\n",
      "x33            0.7477      0.418      1.790      0.074        -0.071     1.567\n",
      "x34            0.0199      0.015      1.289      0.198        -0.010     0.050\n",
      "x35            0.0005      0.004      0.126      0.899        -0.007     0.008\n",
      "x36            0.1123      0.137      0.823      0.411        -0.155     0.380\n",
      "x37            0.0099      0.056      0.178      0.859        -0.099     0.119\n",
      "x38         5.985e-14   2.91e-14      2.054      0.040      2.74e-15  1.17e-13\n",
      "x39        -3.514e-13   7.53e-14     -4.670      0.000     -4.99e-13 -2.04e-13\n",
      "x40         4.343e-13   5.02e-14      8.657      0.000      3.36e-13  5.33e-13\n",
      "x41         1.836e-13   1.99e-14      9.216      0.000      1.45e-13  2.23e-13\n",
      "x42        -9.921e-14   1.96e-14     -5.059      0.000     -1.38e-13 -6.08e-14\n",
      "x43        -6.287e-14   3.29e-15    -19.100      0.000     -6.93e-14 -5.64e-14\n",
      "x44         2.581e-14   4.09e-15      6.307      0.000      1.78e-14  3.38e-14\n",
      "x45          -20.0478      0.417    -48.083      0.000       -20.865   -19.231\n",
      "x46          -19.6254      0.416    -47.187      0.000       -20.441   -18.810\n",
      "x47          -19.8630      0.417    -47.603      0.000       -20.681   -19.045\n",
      "x48          -10.3569      0.417    -24.821      0.000       -11.175    -9.539\n",
      "x49          -10.4593      0.417    -25.084      0.000       -11.277    -9.642\n",
      "x50          -20.0000      0.417    -47.925      0.000       -20.818   -19.182\n",
      "x51            0.0256      0.015      1.662      0.097        -0.005     0.056\n",
      "x52            0.0008      0.004      0.214      0.831        -0.007     0.008\n",
      "x53            0.0570      0.137      0.417      0.676        -0.211     0.325\n",
      "x54           -0.0416      0.056     -0.746      0.455        -0.151     0.068\n",
      "x55         1.398e-13   1.71e-14      8.169      0.000      1.06e-13  1.73e-13\n",
      "x56          8.51e-14   1.33e-14      6.404      0.000      5.91e-14  1.11e-13\n",
      "x57         1.145e-14   3.71e-15      3.084      0.002      4.18e-15  1.87e-14\n",
      "x58        -6.334e-14   6.54e-15     -9.679      0.000     -7.62e-14 -5.05e-14\n",
      "x59         3.293e-14   5.64e-15      5.838      0.000      2.19e-14   4.4e-14\n",
      "x60         2.583e-13   6.64e-15     38.895      0.000      2.45e-13  2.71e-13\n",
      "x61            0.0375      0.416      0.090      0.928        -0.778     0.853\n",
      "x62            0.4035      0.416      0.969      0.333        -0.413     1.220\n",
      "x63           15.0552      0.416     36.165      0.000        14.239    15.871\n",
      "x64           -0.1142      0.417     -0.274      0.784        -0.931     0.703\n",
      "x65            0.0178      0.417      0.043      0.966        -0.799     0.834\n",
      "x66            0.5115      0.415      1.231      0.218        -0.303     1.326\n",
      "x67            0.0303      0.015      1.958      0.050     -2.61e-05     0.061\n",
      "x68            0.0044      0.004      1.132      0.258        -0.003     0.012\n",
      "x69            0.1266      0.136      0.928      0.353        -0.141     0.394\n",
      "x70           -0.0598      0.056     -1.076      0.282        -0.169     0.049\n",
      "x71        -2.937e-15   5.52e-16     -5.323      0.000     -4.02e-15 -1.86e-15\n",
      "x72        -5.422e-15   7.52e-16     -7.205      0.000      -6.9e-15 -3.95e-15\n",
      "x73        -1.153e-14   9.47e-16    -12.177      0.000     -1.34e-14 -9.67e-15\n",
      "x74        -1.662e-14   1.11e-15    -14.909      0.000     -1.88e-14 -1.44e-14\n",
      "x75        -2.851e-14   8.37e-16    -34.052      0.000     -3.02e-14 -2.69e-14\n",
      "x76            0.0576      0.416      0.139      0.890        -0.758     0.873\n",
      "x77           -9.1915      0.416    -22.078      0.000       -10.007    -8.376\n",
      "x78           -9.4345      0.417    -22.603      0.000       -10.253    -8.616\n",
      "x79           10.1542      0.417     24.361      0.000         9.337    10.971\n",
      "x80           -9.7788      0.416    -23.491      0.000       -10.595    -8.963\n",
      "x81           10.2125      0.415     24.587      0.000         9.398    11.027\n",
      "x82            0.0345      0.015      2.236      0.025         0.004     0.065\n",
      "x83           -0.0028      0.004     -0.721      0.471        -0.010     0.005\n",
      "x84            0.2360      0.136      1.729      0.084        -0.031     0.503\n",
      "x85            0.0583      0.056      1.047      0.295        -0.051     0.167\n",
      "x86         8.576e-15   4.08e-16     21.033      0.000      7.78e-15  9.38e-15\n",
      "x87        -7.037e-16   3.21e-16     -2.195      0.028     -1.33e-15 -7.53e-17\n",
      "x88        -4.584e-15   2.65e-16    -17.276      0.000      -5.1e-15 -4.06e-15\n",
      "x89        -8.256e-16   5.65e-16     -1.461      0.144     -1.93e-15  2.82e-16\n",
      "x90            0.5913      0.416      1.423      0.155        -0.223     1.406\n",
      "x91           10.9577      0.417     26.270      0.000        10.140    11.775\n",
      "x92            0.9219      0.416      2.214      0.027         0.106     1.738\n",
      "x93            0.2054      0.416      0.494      0.621        -0.610     1.020\n",
      "x94            0.7901      0.418      1.891      0.059        -0.029     1.609\n",
      "x95            0.3091      0.415      0.744      0.457        -0.505     1.123\n",
      "x96            0.0038      0.015      0.244      0.807        -0.027     0.034\n",
      "x97            0.0051      0.004      1.314      0.189        -0.002     0.013\n",
      "x98            0.2874      0.137      2.105      0.035         0.020     0.555\n",
      "x99           -0.0530      0.056     -0.953      0.341        -0.162     0.056\n",
      "x100        9.142e-15   5.43e-16     16.839      0.000      8.08e-15  1.02e-14\n",
      "x101        7.379e-15   4.89e-16     15.083      0.000      6.42e-15  8.34e-15\n",
      "x102        5.989e-15   5.07e-16     11.807      0.000         5e-15  6.98e-15\n",
      "x103           0.3574      0.418      0.856      0.392        -0.461     1.176\n",
      "x104           0.6404      0.418      1.531      0.126        -0.180     1.460\n",
      "x105           0.6281      0.418      1.503      0.133        -0.191     1.447\n",
      "x106           0.1425      0.418      0.341      0.733        -0.676     0.961\n",
      "x107           0.4773      0.419      1.138      0.255        -0.345     1.299\n",
      "x108          15.5469      0.418     37.231      0.000        14.728    16.365\n",
      "x109           0.0166      0.016      1.066      0.286        -0.014     0.047\n",
      "x110           0.0051      0.004      1.323      0.186        -0.002     0.013\n",
      "x111           0.2874      0.137      2.100      0.036         0.019     0.556\n",
      "x112           0.0137      0.056      0.246      0.806        -0.096     0.123\n",
      "x113        2.692e-15   3.43e-16      7.858      0.000      2.02e-15  3.36e-15\n",
      "x114        6.683e-15   2.03e-16     32.990      0.000      6.29e-15  7.08e-15\n",
      "x115          -0.1398      0.418     -0.335      0.738        -0.959     0.679\n",
      "x116           0.1623      0.417      0.389      0.697        -0.655     0.979\n",
      "x117           0.4442      0.418      1.063      0.288        -0.375     1.263\n",
      "x118          -0.0440      0.417     -0.105      0.916        -0.861     0.773\n",
      "x119           0.2252      0.418      0.539      0.590        -0.594     1.044\n",
      "x120           0.3958      0.417      0.949      0.342        -0.421     1.213\n",
      "x121           0.0299      0.015      1.931      0.053        -0.000     0.060\n",
      "x122           0.0051      0.004      1.331      0.183        -0.002     0.013\n",
      "x123           0.2169      0.136      1.591      0.112        -0.050     0.484\n",
      "x124           0.0233      0.056      0.418      0.676        -0.086     0.132\n",
      "x125        3.704e-16   4.63e-17      8.008      0.000       2.8e-16  4.61e-16\n",
      "x126          -0.1453      0.408     -0.356      0.722        -0.945     0.654\n",
      "x127           0.0812      0.408      0.199      0.842        -0.718     0.880\n",
      "x128          -0.3462      0.408     -0.848      0.397        -1.147     0.454\n",
      "x129          -0.4433      0.407     -1.088      0.277        -1.242     0.355\n",
      "x130          -0.5514      0.408     -1.352      0.176        -1.351     0.248\n",
      "x131           0.1153      0.407      0.283      0.777        -0.682     0.913\n",
      "x132           0.0304      0.015      2.012      0.044         0.001     0.060\n",
      "x133           0.0100      0.004      2.654      0.008         0.003     0.017\n",
      "x134          -0.9103      0.112     -8.112      0.000        -1.130    -0.690\n",
      "x135           1.4166      0.052     27.070      0.000         1.314     1.519\n",
      "x136           0.2143      0.418      0.513      0.608        -0.604     1.033\n",
      "x137           0.4620      0.418      1.105      0.269        -0.358     1.282\n",
      "x138          -0.0401      0.418     -0.096      0.923        -0.859     0.778\n",
      "x139          -0.1199      0.418     -0.287      0.774        -0.939     0.699\n",
      "x140           0.4586      0.418      1.097      0.273        -0.361     1.278\n",
      "x141          10.4460      0.417     25.052      0.000         9.629    11.263\n",
      "x142           0.0080      0.015      0.517      0.605        -0.022     0.038\n",
      "x143           0.0058      0.004      1.496      0.135        -0.002     0.013\n",
      "x144           0.2745      0.137      2.006      0.045         0.006     0.543\n",
      "x145       -4.274e-05      0.056     -0.001      0.999        -0.109     0.109\n",
      "x146                0          0        nan        nan             0         0\n",
      "x147                0          0        nan        nan             0         0\n",
      "x148                0          0        nan        nan             0         0\n",
      "x149                0          0        nan        nan             0         0\n",
      "x150                0          0        nan        nan             0         0\n",
      "x151           0.0053      0.010      0.532      0.595        -0.014     0.025\n",
      "x152          -0.0015      0.002     -0.608      0.543        -0.006     0.003\n",
      "x153          -0.0764      0.104     -0.735      0.462        -0.280     0.127\n",
      "x154           0.0145      0.032      0.453      0.651        -0.048     0.077\n",
      "x155                0          0        nan        nan             0         0\n",
      "x156                0          0        nan        nan             0         0\n",
      "x157                0          0        nan        nan             0         0\n",
      "x158                0          0        nan        nan             0         0\n",
      "x159          -0.0065      0.010     -0.652      0.514        -0.026     0.013\n",
      "x160          -0.0018      0.002     -0.712      0.476        -0.007     0.003\n",
      "x161          -0.0969      0.104     -0.931      0.352        -0.301     0.107\n",
      "x162          -0.0393      0.032     -1.231      0.218        -0.102     0.023\n",
      "x163                0          0        nan        nan             0         0\n",
      "x164                0          0        nan        nan             0         0\n",
      "x165                0          0        nan        nan             0         0\n",
      "x166          -0.0090      0.010     -0.908      0.364        -0.028     0.010\n",
      "x167           0.0025      0.002      1.016      0.310        -0.002     0.007\n",
      "x168          -0.1875      0.104     -1.801      0.072        -0.391     0.017\n",
      "x169          -0.0120      0.032     -0.375      0.708        -0.075     0.051\n",
      "x170                0          0        nan        nan             0         0\n",
      "x171                0          0        nan        nan             0         0\n",
      "x172           0.0097      0.010      0.983      0.325        -0.010     0.029\n",
      "x173          -0.0063      0.002     -2.576      0.010        -0.011    -0.002\n",
      "x174          -0.0801      0.104     -0.770      0.442        -0.284     0.124\n",
      "x175           0.0078      0.032      0.244      0.807        -0.055     0.071\n",
      "x176                0          0        nan        nan             0         0\n",
      "x177          -0.0013      0.010     -0.130      0.897        -0.021     0.018\n",
      "x178          -0.0006      0.002     -0.233      0.816        -0.005     0.004\n",
      "x179          -0.2152      0.104     -2.065      0.039        -0.419    -0.011\n",
      "x180          -0.0302      0.032     -0.943      0.346        -0.093     0.033\n",
      "x181          -0.0051      0.010     -0.511      0.609        -0.024     0.014\n",
      "x182          -0.0035      0.002     -1.408      0.159        -0.008     0.001\n",
      "x183          -0.0862      0.104     -0.829      0.407        -0.290     0.118\n",
      "x184          -0.0365      0.032     -1.142      0.254        -0.099     0.026\n",
      "x185          -0.0200   9.15e-05   -218.137      0.000        -0.020    -0.020\n",
      "x186           0.0039      0.004      1.016      0.310        -0.004     0.011\n",
      "x187           0.0007      0.001      0.567      0.571        -0.002     0.003\n",
      "x188           0.0032      0.001      3.307      0.001         0.001     0.005\n",
      "x189       -2.063e-05      0.000     -0.070      0.944        -0.001     0.001\n",
      "x190           0.2061      0.013     15.747      0.000         0.180     0.232\n",
      "==============================================================================\n",
      "Omnibus:                     6431.621   Durbin-Watson:                   2.000\n",
      "Prob(Omnibus):                  0.000   Jarque-Bera (JB):             5541.338\n",
      "Skew:                           0.129   Prob(JB):                         0.00\n",
      "Kurtosis:                       2.742   Cond. No.                     4.98e+17\n",
      "==============================================================================\n",
      "\n",
      "Warnings:\n",
      "[1] Standard Errors assume that the covariance matrix of the errors is correctly specified.\n",
      "[2] The smallest eigenvalue is 2.78e-24. This might indicate that there are\n",
      "strong multicollinearity problems or that the design matrix is singular.\n"
     ]
    }
   ],
   "source": [
    "results_OLS=SummaryModel_w_ALL(df_poly,df_y,verbose=True)"
   ]
  },
  {
   "cell_type": "markdown",
   "metadata": {},
   "source": [
    "### 10 fold cross validation for linear regression"
   ]
  },
  {
   "cell_type": "code",
   "execution_count": 21,
   "metadata": {
    "collapsed": false
   },
   "outputs": [
    {
     "name": "stdout",
     "output_type": "stream",
     "text": [
      "363.139368065\n",
      "360.668948441\n",
      "360.521541338\n",
      "360.7748321\n",
      "364.361850976\n",
      "363.439077155\n",
      "361.503410775\n",
      "363.682890757\n",
      "362.267698567\n",
      "364.15871302\n"
     ]
    }
   ],
   "source": [
    "rmse_REG,model_REG=PredictiveModel_CV(linear_model.LinearRegression,{},df_poly_w_salary,10)"
   ]
  },
  {
   "cell_type": "markdown",
   "metadata": {},
   "source": [
    "### Feature selection using Lasso and find out significant terms"
   ]
  },
  {
   "cell_type": "code",
   "execution_count": 47,
   "metadata": {
    "collapsed": false
   },
   "outputs": [],
   "source": [
    "rmse_lasso,model_lasso=PredictiveModel_CV(linear_model.Lasso,{\"alpha\":0.1},df_poly_w_salary,0)"
   ]
  },
  {
   "cell_type": "code",
   "execution_count": 49,
   "metadata": {
    "collapsed": false
   },
   "outputs": [
    {
     "name": "stdout",
     "output_type": "stream",
     "text": [
      "['NONE', 'AUTO', 'EDUCATION', 'OIL', 'SERVICE', 'yearsExperience', 'milesFromMetropolis', 'degree_label', 'jobtype_label', ' BIOLOGY yearsExperience', ' BIOLOGY milesFromMetropolis', ' BIOLOGY jobtype_label', ' BUSINESS yearsExperience', ' BUSINESS milesFromMetropolis', ' BUSINESS degree_label', ' BUSINESS jobtype_label', ' CHEMISTRY yearsExperience', ' CHEMISTRY milesFromMetropolis', ' ENGINEERING yearsExperience', ' ENGINEERING milesFromMetropolis', ' ENGINEERING degree_label', ' ENGINEERING jobtype_label', ' LITERATURE yearsExperience', ' LITERATURE milesFromMetropolis', ' LITERATURE jobtype_label', ' MATH yearsExperience', ' MATH milesFromMetropolis', ' MATH degree_label', ' MISSING yearsExperience', ' MISSING milesFromMetropolis', ' MISSING degree_label', ' MISSING jobtype_label', ' NONE yearsExperience', ' NONE milesFromMetropolis', ' NONE degree_label', ' NONE jobtype_label', ' PHYSICS milesFromMetropolis', ' AUTO yearsExperience', ' AUTO milesFromMetropolis', ' AUTO degree_label', ' AUTO jobtype_label', ' EDUCATION yearsExperience', ' EDUCATION milesFromMetropolis', ' EDUCATION degree_label', ' EDUCATION jobtype_label', ' HEALTH yearsExperience', ' HEALTH milesFromMetropolis', ' HEALTH degree_label', ' HEALTH jobtype_label', ' OIL yearsExperience', ' OIL milesFromMetropolis', ' SERVICE yearsExperience', ' SERVICE milesFromMetropolis', ' SERVICE degree_label', ' SERVICE jobtype_label', ' WEB yearsExperience', ' WEB milesFromMetropolis', ' WEB jobtype_label', ' yearsExperience milesFromMetropolis', ' yearsExperience degree_label', ' yearsExperience jobtype_label', ' milesFromMetropolis degree_label', ' milesFromMetropolis jobtype_label']\n"
     ]
    }
   ],
   "source": [
    "fea_dict,sign_col=Col_Name_Features(model_lasso,19)"
   ]
  },
  {
   "cell_type": "code",
   "execution_count": 50,
   "metadata": {
    "collapsed": false
   },
   "outputs": [
    {
     "name": "stdout",
     "output_type": "stream",
     "text": [
      "most significant term with positive coefficient:\n",
      "jobtype_label\n",
      "\n",
      "its corresponding coefficient\n"
     ]
    },
    {
     "data": {
      "text/plain": [
       "8.7990071810631356"
      ]
     },
     "execution_count": 50,
     "metadata": {},
     "output_type": "execute_result"
    }
   ],
   "source": [
    "## find the greatest impact term\n",
    "print(\"most significant term with positive coefficient:\")\n",
    "print(fea_dict[np.array(poly.get_feature_names()[1:])[np.argmax(model_lasso.coef_)]])\n",
    "print()\n",
    "print(\"its corresponding coefficient\")\n",
    "model_lasso.coef_[np.argmax(model_lasso.coef_)]"
   ]
  },
  {
   "cell_type": "code",
   "execution_count": 51,
   "metadata": {
    "collapsed": false
   },
   "outputs": [
    {
     "name": "stdout",
     "output_type": "stream",
     "text": [
      "most significant term with negative coefficient:\n",
      "EDUCATION\n",
      "\n",
      "its corresponding coefficient\n"
     ]
    },
    {
     "data": {
      "text/plain": [
       "-12.105651402250443"
      ]
     },
     "execution_count": 51,
     "metadata": {},
     "output_type": "execute_result"
    }
   ],
   "source": [
    "print(\"most significant term with negative coefficient:\")\n",
    "print(fea_dict[np.array(poly.get_feature_names()[1:])[np.argmin(model_lasso.coef_)]])\n",
    "print()\n",
    "print(\"its corresponding coefficient\")\n",
    "model_lasso.coef_[np.argmin(model_lasso.coef_)]\n"
   ]
  },
  {
   "cell_type": "code",
   "execution_count": 56,
   "metadata": {
    "collapsed": false
   },
   "outputs": [
    {
     "name": "stdout",
     "output_type": "stream",
     "text": [
      "Descending Order for feature significance\n"
     ]
    },
    {
     "data": {
      "text/plain": [
       "['EDUCATION',\n",
       " 'jobtype_label',\n",
       " 'SERVICE',\n",
       " 'degree_label',\n",
       " 'OIL',\n",
       " 'NONE',\n",
       " 'yearsExperience',\n",
       " 'AUTO',\n",
       " ' ENGINEERING degree_label',\n",
       " ' EDUCATION degree_label',\n",
       " ' SERVICE degree_label',\n",
       " ' AUTO degree_label',\n",
       " ' NONE degree_label',\n",
       " ' EDUCATION jobtype_label',\n",
       " ' SERVICE jobtype_label',\n",
       " ' AUTO jobtype_label',\n",
       " ' BUSINESS degree_label',\n",
       " ' HEALTH jobtype_label',\n",
       " ' NONE jobtype_label',\n",
       " ' EDUCATION yearsExperience',\n",
       " ' SERVICE yearsExperience',\n",
       " ' AUTO yearsExperience',\n",
       " ' MISSING jobtype_label',\n",
       " ' HEALTH yearsExperience',\n",
       " ' LITERATURE jobtype_label',\n",
       " ' MISSING degree_label',\n",
       " ' WEB yearsExperience',\n",
       " ' ENGINEERING jobtype_label',\n",
       " ' HEALTH degree_label',\n",
       " ' NONE yearsExperience',\n",
       " ' MATH degree_label',\n",
       " ' LITERATURE yearsExperience',\n",
       " ' MISSING yearsExperience',\n",
       " ' AUTO milesFromMetropolis',\n",
       " ' EDUCATION milesFromMetropolis',\n",
       " ' SERVICE milesFromMetropolis',\n",
       " ' ENGINEERING yearsExperience',\n",
       " ' HEALTH milesFromMetropolis',\n",
       " ' OIL yearsExperience',\n",
       " ' WEB jobtype_label',\n",
       " ' BUSINESS yearsExperience',\n",
       " ' WEB milesFromMetropolis',\n",
       " ' NONE milesFromMetropolis',\n",
       " ' MISSING milesFromMetropolis',\n",
       " ' BUSINESS jobtype_label',\n",
       " ' LITERATURE milesFromMetropolis',\n",
       " ' MATH yearsExperience',\n",
       " ' BIOLOGY yearsExperience',\n",
       " ' OIL milesFromMetropolis',\n",
       " ' BIOLOGY milesFromMetropolis',\n",
       " ' yearsExperience degree_label',\n",
       " ' CHEMISTRY milesFromMetropolis',\n",
       " ' CHEMISTRY yearsExperience',\n",
       " ' PHYSICS milesFromMetropolis',\n",
       " ' yearsExperience milesFromMetropolis',\n",
       " ' milesFromMetropolis degree_label',\n",
       " 'milesFromMetropolis',\n",
       " ' ENGINEERING milesFromMetropolis',\n",
       " ' BUSINESS milesFromMetropolis',\n",
       " ' BIOLOGY jobtype_label',\n",
       " ' yearsExperience jobtype_label',\n",
       " ' MATH milesFromMetropolis',\n",
       " ' milesFromMetropolis jobtype_label']"
      ]
     },
     "execution_count": 56,
     "metadata": {},
     "output_type": "execute_result"
    }
   ],
   "source": [
    "print(\"Descending Order for feature significance\")\n",
    "[fea_dict[np.array(poly.get_feature_names()[1:])[i]] for i in np.argsort(abs(model_lasso.coef_))[::-1] if model_lasso.coef_[i]!=0]"
   ]
  },
  {
   "cell_type": "markdown",
   "metadata": {},
   "source": [
    "### Interaction terms are least significant, also milesFromMetropolis is also one of the least significant terms.  Education, jobtype label, service, degree_label are most significant terms"
   ]
  },
  {
   "cell_type": "markdown",
   "metadata": {
    "collapsed": true
   },
   "source": [
    "## Prediction on testing dataset"
   ]
  },
  {
   "cell_type": "code",
   "execution_count": 22,
   "metadata": {
    "collapsed": false
   },
   "outputs": [
    {
     "data": {
      "text/html": [
       "<div>\n",
       "<table border=\"1\" class=\"dataframe\">\n",
       "  <thead>\n",
       "    <tr style=\"text-align: right;\">\n",
       "      <th></th>\n",
       "      <th>jobId</th>\n",
       "      <th>companyId</th>\n",
       "      <th>jobType</th>\n",
       "      <th>degree</th>\n",
       "      <th>major</th>\n",
       "      <th>industry</th>\n",
       "      <th>yearsExperience</th>\n",
       "      <th>milesFromMetropolis</th>\n",
       "    </tr>\n",
       "  </thead>\n",
       "  <tbody>\n",
       "    <tr>\n",
       "      <th>0</th>\n",
       "      <td>JOB1362685407687</td>\n",
       "      <td>COMP33</td>\n",
       "      <td>MANAGER</td>\n",
       "      <td>HIGH_SCHOOL</td>\n",
       "      <td>NONE</td>\n",
       "      <td>HEALTH</td>\n",
       "      <td>22</td>\n",
       "      <td>73</td>\n",
       "    </tr>\n",
       "    <tr>\n",
       "      <th>1</th>\n",
       "      <td>JOB1362685407688</td>\n",
       "      <td>COMP13</td>\n",
       "      <td>JUNIOR</td>\n",
       "      <td>NONE</td>\n",
       "      <td>NONE</td>\n",
       "      <td>AUTO</td>\n",
       "      <td>20</td>\n",
       "      <td>47</td>\n",
       "    </tr>\n",
       "    <tr>\n",
       "      <th>2</th>\n",
       "      <td>JOB1362685407689</td>\n",
       "      <td>COMP10</td>\n",
       "      <td>CTO</td>\n",
       "      <td>MASTERS</td>\n",
       "      <td>BIOLOGY</td>\n",
       "      <td>HEALTH</td>\n",
       "      <td>17</td>\n",
       "      <td>9</td>\n",
       "    </tr>\n",
       "    <tr>\n",
       "      <th>3</th>\n",
       "      <td>JOB1362685407690</td>\n",
       "      <td>COMP21</td>\n",
       "      <td>MANAGER</td>\n",
       "      <td>HIGH_SCHOOL</td>\n",
       "      <td>NONE</td>\n",
       "      <td>OIL</td>\n",
       "      <td>14</td>\n",
       "      <td>96</td>\n",
       "    </tr>\n",
       "    <tr>\n",
       "      <th>4</th>\n",
       "      <td>JOB1362685407691</td>\n",
       "      <td>COMP36</td>\n",
       "      <td>JUNIOR</td>\n",
       "      <td>DOCTORAL</td>\n",
       "      <td>BIOLOGY</td>\n",
       "      <td>OIL</td>\n",
       "      <td>10</td>\n",
       "      <td>44</td>\n",
       "    </tr>\n",
       "  </tbody>\n",
       "</table>\n",
       "</div>"
      ],
      "text/plain": [
       "              jobId companyId  jobType       degree    major industry  \\\n",
       "0  JOB1362685407687    COMP33  MANAGER  HIGH_SCHOOL     NONE   HEALTH   \n",
       "1  JOB1362685407688    COMP13   JUNIOR         NONE     NONE     AUTO   \n",
       "2  JOB1362685407689    COMP10      CTO      MASTERS  BIOLOGY   HEALTH   \n",
       "3  JOB1362685407690    COMP21  MANAGER  HIGH_SCHOOL     NONE      OIL   \n",
       "4  JOB1362685407691    COMP36   JUNIOR     DOCTORAL  BIOLOGY      OIL   \n",
       "\n",
       "   yearsExperience  milesFromMetropolis  \n",
       "0               22                   73  \n",
       "1               20                   47  \n",
       "2               17                    9  \n",
       "3               14                   96  \n",
       "4               10                   44  "
      ]
     },
     "execution_count": 22,
     "metadata": {},
     "output_type": "execute_result"
    }
   ],
   "source": [
    "test_data=pd.read_csv(\"test_features_2013-03-07.csv\")\n",
    "test_data.head()"
   ]
  },
  {
   "cell_type": "code",
   "execution_count": 81,
   "metadata": {
    "collapsed": false
   },
   "outputs": [
    {
     "data": {
      "text/plain": [
       "63"
      ]
     },
     "execution_count": 81,
     "metadata": {},
     "output_type": "execute_result"
    }
   ],
   "source": [
    "len(np.unique(test_data['companyId']))"
   ]
  },
  {
   "cell_type": "code",
   "execution_count": 79,
   "metadata": {
    "collapsed": false
   },
   "outputs": [
    {
     "name": "stdout",
     "output_type": "stream",
     "text": [
      "jobtype category:\n",
      "SENIOR            125886\n",
      "VICE_PRESIDENT    125235\n",
      "MANAGER           125121\n",
      "CTO               125046\n",
      "JANITOR           124971\n",
      "CEO               124778\n",
      "JUNIOR            124594\n",
      "CFO               124369\n",
      "Name: jobType, dtype: int64\n",
      "---------------------\n",
      "industry category:\n",
      "WEB          143206\n",
      "AUTO         142943\n",
      "FINANCE      142867\n",
      "EDUCATION    142819\n",
      "OIL          142771\n",
      "HEALTH       142755\n",
      "SERVICE      142639\n",
      "Name: industry, dtype: int64\n",
      "---------------------\n",
      "degree category:\n",
      "HIGH_SCHOOL    236976\n",
      "NONE           236854\n",
      "BACHELORS      175495\n",
      "DOCTORAL       175364\n",
      "MASTERS        175311\n",
      "Name: degree, dtype: int64\n",
      "---------------------\n",
      "major category:\n",
      "NONE           532355\n",
      "CHEMISTRY       58875\n",
      "LITERATURE      58684\n",
      "ENGINEERING     58596\n",
      "BUSINESS        58518\n",
      "PHYSICS         58410\n",
      "COMPSCI         58382\n",
      "BIOLOGY         58379\n",
      "MATH            57801\n",
      "Name: major, dtype: int64\n",
      "---------------------\n"
     ]
    }
   ],
   "source": [
    "##check categories\n",
    "print('jobtype category:')\n",
    "print(features['jobType'].value_counts())\n",
    "\n",
    "print(\"---------------------\")\n",
    "print('industry category:')\n",
    "print(features['industry'].value_counts())\n",
    "\n",
    "print(\"---------------------\")\n",
    "print('degree category:')\n",
    "print(features['degree'].value_counts())\n",
    "\n",
    "print(\"---------------------\")\n",
    "print('major category:')\n",
    "print(features['major'].value_counts())\n",
    "\n",
    "print(\"---------------------\")"
   ]
  },
  {
   "cell_type": "code",
   "execution_count": 23,
   "metadata": {
    "collapsed": false
   },
   "outputs": [
    {
     "name": "stdout",
     "output_type": "stream",
     "text": [
      "----------check if there is NULL in this dataset------------\n",
      "jobId                  True\n",
      "companyId              True\n",
      "jobType                True\n",
      "degree                 True\n",
      "major                  True\n",
      "industry               True\n",
      "yearsExperience        True\n",
      "milesFromMetropolis    True\n",
      "dtype: bool\n",
      "\n",
      "\n",
      "---------check descriptive statistics for two continuous variables-------\n",
      "       yearsExperience  milesFromMetropolis\n",
      "count   1000000.000000       1000000.000000\n",
      "mean         12.002104            49.526414\n",
      "std           7.213179            28.889713\n",
      "min           0.000000             0.000000\n",
      "25%           6.000000            25.000000\n",
      "50%          12.000000            50.000000\n",
      "75%          18.000000            75.000000\n",
      "max          24.000000            99.000000\n"
     ]
    }
   ],
   "source": [
    "print(\"----------check if there is NULL in this dataset------------\")\n",
    "print(test_data.apply(pd.notnull).all(axis=0))\n",
    "\n",
    "print()\n",
    "print()\n",
    "print(\"---------check descriptive statistics for two continuous variables-------\")\n",
    "print(test_data.describe())"
   ]
  },
  {
   "cell_type": "code",
   "execution_count": 58,
   "metadata": {
    "collapsed": false
   },
   "outputs": [
    {
     "name": "stdout",
     "output_type": "stream",
     "text": [
      "------count group by degree----------\n",
      "\n",
      "              major\n",
      "degree             \n",
      "BACHELORS    173937\n",
      "DOCTORAL     175105\n",
      "HIGH_SCHOOL  238255\n",
      "MASTERS      175236\n",
      "NONE         237467\n",
      "------count group by major-----------\n",
      "\n",
      "             degree\n",
      "major              \n",
      "BIOLOGY       58804\n",
      "BUSINESS      57961\n",
      "CHEMISTRY     58159\n",
      "COMPSCI       58385\n",
      "ENGINEERING   58496\n",
      "LITERATURE    58062\n",
      "MATH          57817\n",
      "NONE         534068\n",
      "PHYSICS       58248\n",
      "\n",
      "MISSING type also exists\n"
     ]
    }
   ],
   "source": [
    "print(\"------count group by degree----------\")\n",
    "print()\n",
    "print(test_data[['degree','major']].groupby(['degree']).count())\n",
    "\n",
    "print(\"------count group by major-----------\")\n",
    "print()\n",
    "print(test_data[['major','degree']].groupby(['major']).count())\n",
    "\n",
    "print()\n",
    "print(\"MISSING type also exists\")\n"
   ]
  },
  {
   "cell_type": "markdown",
   "metadata": {},
   "source": [
    "### Encode features"
   ]
  },
  {
   "cell_type": "code",
   "execution_count": 59,
   "metadata": {
    "collapsed": false
   },
   "outputs": [
    {
     "data": {
      "text/html": [
       "<div>\n",
       "<table border=\"1\" class=\"dataframe\">\n",
       "  <thead>\n",
       "    <tr style=\"text-align: right;\">\n",
       "      <th></th>\n",
       "      <th>jobId</th>\n",
       "      <th>companyId</th>\n",
       "      <th>jobType</th>\n",
       "      <th>degree</th>\n",
       "      <th>major</th>\n",
       "      <th>industry</th>\n",
       "      <th>yearsExperience</th>\n",
       "      <th>milesFromMetropolis</th>\n",
       "      <th>degree_label</th>\n",
       "      <th>jobtype_label</th>\n",
       "      <th>major_label</th>\n",
       "      <th>industry_label</th>\n",
       "    </tr>\n",
       "  </thead>\n",
       "  <tbody>\n",
       "    <tr>\n",
       "      <th>0</th>\n",
       "      <td>JOB1362685407687</td>\n",
       "      <td>COMP33</td>\n",
       "      <td>MANAGER</td>\n",
       "      <td>HIGH_SCHOOL</td>\n",
       "      <td>NONE</td>\n",
       "      <td>HEALTH</td>\n",
       "      <td>22</td>\n",
       "      <td>73</td>\n",
       "      <td>1</td>\n",
       "      <td>3</td>\n",
       "      <td>8</td>\n",
       "      <td>3</td>\n",
       "    </tr>\n",
       "    <tr>\n",
       "      <th>1</th>\n",
       "      <td>JOB1362685407688</td>\n",
       "      <td>COMP13</td>\n",
       "      <td>JUNIOR</td>\n",
       "      <td>NONE</td>\n",
       "      <td>NONE</td>\n",
       "      <td>AUTO</td>\n",
       "      <td>20</td>\n",
       "      <td>47</td>\n",
       "      <td>0</td>\n",
       "      <td>1</td>\n",
       "      <td>8</td>\n",
       "      <td>0</td>\n",
       "    </tr>\n",
       "    <tr>\n",
       "      <th>2</th>\n",
       "      <td>JOB1362685407689</td>\n",
       "      <td>COMP10</td>\n",
       "      <td>CTO</td>\n",
       "      <td>MASTERS</td>\n",
       "      <td>BIOLOGY</td>\n",
       "      <td>HEALTH</td>\n",
       "      <td>17</td>\n",
       "      <td>9</td>\n",
       "      <td>3</td>\n",
       "      <td>6</td>\n",
       "      <td>0</td>\n",
       "      <td>3</td>\n",
       "    </tr>\n",
       "    <tr>\n",
       "      <th>3</th>\n",
       "      <td>JOB1362685407690</td>\n",
       "      <td>COMP21</td>\n",
       "      <td>MANAGER</td>\n",
       "      <td>HIGH_SCHOOL</td>\n",
       "      <td>NONE</td>\n",
       "      <td>OIL</td>\n",
       "      <td>14</td>\n",
       "      <td>96</td>\n",
       "      <td>1</td>\n",
       "      <td>3</td>\n",
       "      <td>8</td>\n",
       "      <td>4</td>\n",
       "    </tr>\n",
       "    <tr>\n",
       "      <th>4</th>\n",
       "      <td>JOB1362685407691</td>\n",
       "      <td>COMP36</td>\n",
       "      <td>JUNIOR</td>\n",
       "      <td>DOCTORAL</td>\n",
       "      <td>BIOLOGY</td>\n",
       "      <td>OIL</td>\n",
       "      <td>10</td>\n",
       "      <td>44</td>\n",
       "      <td>4</td>\n",
       "      <td>1</td>\n",
       "      <td>0</td>\n",
       "      <td>4</td>\n",
       "    </tr>\n",
       "  </tbody>\n",
       "</table>\n",
       "</div>"
      ],
      "text/plain": [
       "              jobId companyId  jobType       degree    major industry  \\\n",
       "0  JOB1362685407687    COMP33  MANAGER  HIGH_SCHOOL     NONE   HEALTH   \n",
       "1  JOB1362685407688    COMP13   JUNIOR         NONE     NONE     AUTO   \n",
       "2  JOB1362685407689    COMP10      CTO      MASTERS  BIOLOGY   HEALTH   \n",
       "3  JOB1362685407690    COMP21  MANAGER  HIGH_SCHOOL     NONE      OIL   \n",
       "4  JOB1362685407691    COMP36   JUNIOR     DOCTORAL  BIOLOGY      OIL   \n",
       "\n",
       "   yearsExperience  milesFromMetropolis  degree_label  jobtype_label  \\\n",
       "0               22                   73             1              3   \n",
       "1               20                   47             0              1   \n",
       "2               17                    9             3              6   \n",
       "3               14                   96             1              3   \n",
       "4               10                   44             4              1   \n",
       "\n",
       "   major_label  industry_label  \n",
       "0            8               3  \n",
       "1            8               0  \n",
       "2            0               3  \n",
       "3            8               4  \n",
       "4            0               4  "
      ]
     },
     "execution_count": 59,
     "metadata": {},
     "output_type": "execute_result"
    }
   ],
   "source": [
    "test_data['degree_label']=test_data['degree'].apply(lambda x: degree_dict[x])\n",
    "test_data['jobtype_label']=test_data['jobType'].apply(lambda x: job_dict[x])\n",
    "test_data['major_label']=le2.transform(test_data['major'])\n",
    "test_data['industry_label']=le3.transform(test_data['industry'])\n",
    "test_data.head()"
   ]
  },
  {
   "cell_type": "code",
   "execution_count": 67,
   "metadata": {
    "collapsed": false
   },
   "outputs": [
    {
     "data": {
      "text/plain": [
       "(1000000, 17)"
      ]
     },
     "execution_count": 67,
     "metadata": {},
     "output_type": "execute_result"
    }
   ],
   "source": [
    "feature_encode_test=enc.transform(test_data[['major_label','industry_label']]).toarray()\n",
    "feature_encode_test.shape"
   ]
  },
  {
   "cell_type": "code",
   "execution_count": 70,
   "metadata": {
    "collapsed": false
   },
   "outputs": [
    {
     "name": "stdout",
     "output_type": "stream",
     "text": [
      "---columns for all variables-----\n",
      "Index(['BIOLOGY', 'BUSINESS', 'CHEMISTRY', 'ENGINEERING', 'LITERATURE', 'MATH',\n",
      "       'MISSING', 'NONE', 'PHYSICS', 'AUTO', 'EDUCATION', 'HEALTH', 'OIL',\n",
      "       'SERVICE', 'WEB', 'yearsExperience', 'milesFromMetropolis',\n",
      "       'degree_label', 'jobtype_label'],\n",
      "      dtype='object')\n",
      "\n"
     ]
    }
   ],
   "source": [
    "df_encode_test=pd.DataFrame(feature_encode_test,columns=col_name,dtype=int)\n",
    "df_encode_test=df_encode_test.drop([\"COMPSCI\",\"FINANCE\"],axis=1)\n",
    "df_numerical_test=test_data[['yearsExperience','milesFromMetropolis','degree_label','jobtype_label']]\n",
    "df_numerical_test.index=range(df_numerical_test.shape[0])\n",
    "df_xy_test=df_encode_test.join(df_numerical_test)\n",
    "print(\"---columns for all variables-----\")\n",
    "print(df_xy_test.columns)\n",
    "print()"
   ]
  },
  {
   "cell_type": "markdown",
   "metadata": {},
   "source": [
    "### Prediction"
   ]
  },
  {
   "cell_type": "code",
   "execution_count": 71,
   "metadata": {
    "collapsed": false
   },
   "outputs": [
    {
     "data": {
      "text/plain": [
       "(1000000, 191)"
      ]
     },
     "execution_count": 71,
     "metadata": {},
     "output_type": "execute_result"
    }
   ],
   "source": [
    "df_poly_test=pd.DataFrame(poly.fit_transform(df_xy_test))\n",
    "df_poly_test.shape"
   ]
  },
  {
   "cell_type": "code",
   "execution_count": 72,
   "metadata": {
    "collapsed": false
   },
   "outputs": [
    {
     "data": {
      "text/plain": [
       "array([ 107.79035815,   92.46180784,  186.48603492, ...,   56.07485115,\n",
       "        165.60733088,  112.12742753])"
      ]
     },
     "execution_count": 72,
     "metadata": {},
     "output_type": "execute_result"
    }
   ],
   "source": [
    "y_test=results_OLS.predict(df_poly_test)\n",
    "y_test"
   ]
  },
  {
   "cell_type": "code",
   "execution_count": 73,
   "metadata": {
    "collapsed": false
   },
   "outputs": [
    {
     "data": {
      "text/html": [
       "<div>\n",
       "<table border=\"1\" class=\"dataframe\">\n",
       "  <thead>\n",
       "    <tr style=\"text-align: right;\">\n",
       "      <th></th>\n",
       "      <th>jobId</th>\n",
       "      <th>companyId</th>\n",
       "      <th>jobType</th>\n",
       "      <th>degree</th>\n",
       "      <th>major</th>\n",
       "      <th>industry</th>\n",
       "      <th>yearsExperience</th>\n",
       "      <th>milesFromMetropolis</th>\n",
       "      <th>degree_label</th>\n",
       "      <th>jobtype_label</th>\n",
       "      <th>major_label</th>\n",
       "      <th>industry_label</th>\n",
       "      <th>salary</th>\n",
       "    </tr>\n",
       "  </thead>\n",
       "  <tbody>\n",
       "    <tr>\n",
       "      <th>0</th>\n",
       "      <td>JOB1362685407687</td>\n",
       "      <td>COMP33</td>\n",
       "      <td>MANAGER</td>\n",
       "      <td>HIGH_SCHOOL</td>\n",
       "      <td>NONE</td>\n",
       "      <td>HEALTH</td>\n",
       "      <td>22</td>\n",
       "      <td>73</td>\n",
       "      <td>1</td>\n",
       "      <td>3</td>\n",
       "      <td>8</td>\n",
       "      <td>3</td>\n",
       "      <td>107.790358</td>\n",
       "    </tr>\n",
       "    <tr>\n",
       "      <th>1</th>\n",
       "      <td>JOB1362685407688</td>\n",
       "      <td>COMP13</td>\n",
       "      <td>JUNIOR</td>\n",
       "      <td>NONE</td>\n",
       "      <td>NONE</td>\n",
       "      <td>AUTO</td>\n",
       "      <td>20</td>\n",
       "      <td>47</td>\n",
       "      <td>0</td>\n",
       "      <td>1</td>\n",
       "      <td>8</td>\n",
       "      <td>0</td>\n",
       "      <td>92.461808</td>\n",
       "    </tr>\n",
       "    <tr>\n",
       "      <th>2</th>\n",
       "      <td>JOB1362685407689</td>\n",
       "      <td>COMP10</td>\n",
       "      <td>CTO</td>\n",
       "      <td>MASTERS</td>\n",
       "      <td>BIOLOGY</td>\n",
       "      <td>HEALTH</td>\n",
       "      <td>17</td>\n",
       "      <td>9</td>\n",
       "      <td>3</td>\n",
       "      <td>6</td>\n",
       "      <td>0</td>\n",
       "      <td>3</td>\n",
       "      <td>186.486035</td>\n",
       "    </tr>\n",
       "    <tr>\n",
       "      <th>3</th>\n",
       "      <td>JOB1362685407690</td>\n",
       "      <td>COMP21</td>\n",
       "      <td>MANAGER</td>\n",
       "      <td>HIGH_SCHOOL</td>\n",
       "      <td>NONE</td>\n",
       "      <td>OIL</td>\n",
       "      <td>14</td>\n",
       "      <td>96</td>\n",
       "      <td>1</td>\n",
       "      <td>3</td>\n",
       "      <td>8</td>\n",
       "      <td>4</td>\n",
       "      <td>100.240431</td>\n",
       "    </tr>\n",
       "    <tr>\n",
       "      <th>4</th>\n",
       "      <td>JOB1362685407691</td>\n",
       "      <td>COMP36</td>\n",
       "      <td>JUNIOR</td>\n",
       "      <td>DOCTORAL</td>\n",
       "      <td>BIOLOGY</td>\n",
       "      <td>OIL</td>\n",
       "      <td>10</td>\n",
       "      <td>44</td>\n",
       "      <td>4</td>\n",
       "      <td>1</td>\n",
       "      <td>0</td>\n",
       "      <td>4</td>\n",
       "      <td>117.916889</td>\n",
       "    </tr>\n",
       "  </tbody>\n",
       "</table>\n",
       "</div>"
      ],
      "text/plain": [
       "              jobId companyId  jobType       degree    major industry  \\\n",
       "0  JOB1362685407687    COMP33  MANAGER  HIGH_SCHOOL     NONE   HEALTH   \n",
       "1  JOB1362685407688    COMP13   JUNIOR         NONE     NONE     AUTO   \n",
       "2  JOB1362685407689    COMP10      CTO      MASTERS  BIOLOGY   HEALTH   \n",
       "3  JOB1362685407690    COMP21  MANAGER  HIGH_SCHOOL     NONE      OIL   \n",
       "4  JOB1362685407691    COMP36   JUNIOR     DOCTORAL  BIOLOGY      OIL   \n",
       "\n",
       "   yearsExperience  milesFromMetropolis  degree_label  jobtype_label  \\\n",
       "0               22                   73             1              3   \n",
       "1               20                   47             0              1   \n",
       "2               17                    9             3              6   \n",
       "3               14                   96             1              3   \n",
       "4               10                   44             4              1   \n",
       "\n",
       "   major_label  industry_label      salary  \n",
       "0            8               3  107.790358  \n",
       "1            8               0   92.461808  \n",
       "2            0               3  186.486035  \n",
       "3            8               4  100.240431  \n",
       "4            0               4  117.916889  "
      ]
     },
     "execution_count": 73,
     "metadata": {},
     "output_type": "execute_result"
    }
   ],
   "source": [
    "test_data['salary']=y_test\n",
    "test_data.head()"
   ]
  },
  {
   "cell_type": "code",
   "execution_count": 74,
   "metadata": {
    "collapsed": true
   },
   "outputs": [],
   "source": [
    "test_data[['jobId','salary']].to_csv(\"test_salaries_2013-03-07.csv\",index=False)"
   ]
  },
  {
   "cell_type": "code",
   "execution_count": null,
   "metadata": {
    "collapsed": true
   },
   "outputs": [],
   "source": []
  }
 ],
 "metadata": {
  "kernelspec": {
   "display_name": "Python 3",
   "language": "python",
   "name": "python3"
  },
  "language_info": {
   "codemirror_mode": {
    "name": "ipython",
    "version": 3
   },
   "file_extension": ".py",
   "mimetype": "text/x-python",
   "name": "python",
   "nbconvert_exporter": "python",
   "pygments_lexer": "ipython3",
   "version": "3.5.2"
  }
 },
 "nbformat": 4,
 "nbformat_minor": 0
}
